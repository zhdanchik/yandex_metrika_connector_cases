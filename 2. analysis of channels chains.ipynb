{
 "cells": [
  {
   "cell_type": "markdown",
   "id": "3d429365-9169-41fd-9000-30c83cfb01d9",
   "metadata": {},
   "source": [
    "## Создание таблиц и работа с атрибуциями"
   ]
  },
  {
   "cell_type": "markdown",
   "id": "53d952bd-c483-4eee-b361-ed84ba413ad5",
   "metadata": {
    "execution": {
     "iopub.execute_input": "2024-04-23T08:14:17.712941Z",
     "iopub.status.busy": "2024-04-23T08:14:17.712137Z",
     "iopub.status.idle": "2024-04-23T08:14:17.725670Z",
     "shell.execute_reply": "2024-04-23T08:14:17.724661Z",
     "shell.execute_reply.started": "2024-04-23T08:14:17.712904Z"
    },
    "tags": []
   },
   "source": [
    "Сначала инициализируем доступ к clickhouse"
   ]
  },
  {
   "cell_type": "code",
   "execution_count": 1,
   "id": "49f01bec-2200-4ec8-94c3-b9acafa55595",
   "metadata": {
    "execution": {
     "iopub.execute_input": "2024-04-23T14:12:24.982603Z",
     "iopub.status.busy": "2024-04-23T14:12:24.981485Z",
     "iopub.status.idle": "2024-04-23T14:12:25.055839Z",
     "shell.execute_reply": "2024-04-23T14:12:25.054773Z",
     "shell.execute_reply.started": "2024-04-23T14:12:24.982555Z"
    },
    "tags": []
   },
   "outputs": [],
   "source": [
    "#----------Вводить свои данные в нижние 3 переменные--------------\n",
    "CH_HOST_NAME = 'rc1a-4dk99mincol3hoff.mdb.yandexcloud.net'\n",
    "CH_USER      = 'admin'\n",
    "CH_DB_NAME   = 'metrica_data'\n",
    "\n",
    "#-------------------------------------------\n",
    "CH_PASS      = open('../_chpass.txt').read().strip()\n",
    "CH_HOST      = f'https://{CH_HOST_NAME}:8443'\n",
    "CH_CASERT    = 'YandexInternalRootCA.crt'"
   ]
  },
  {
   "cell_type": "code",
   "execution_count": 2,
   "id": "8067c081-0f40-47e2-8d69-bb2b71e89e42",
   "metadata": {
    "execution": {
     "iopub.execute_input": "2024-04-23T14:12:28.331926Z",
     "iopub.status.busy": "2024-04-23T14:12:28.331453Z",
     "iopub.status.idle": "2024-04-23T14:12:28.806852Z",
     "shell.execute_reply": "2024-04-23T14:12:28.805986Z",
     "shell.execute_reply.started": "2024-04-23T14:12:28.331889Z"
    },
    "tags": []
   },
   "outputs": [
    {
     "data": {
      "text/html": [
       "        <script type=\"text/javascript\">\n",
       "        window.PlotlyConfig = {MathJaxConfig: 'local'};\n",
       "        if (window.MathJax && window.MathJax.Hub && window.MathJax.Hub.Config) {window.MathJax.Hub.Config({SVG: {font: \"STIX-Web\"}});}\n",
       "        if (typeof require !== 'undefined') {\n",
       "        require.undef(\"plotly\");\n",
       "        requirejs.config({\n",
       "            paths: {\n",
       "                'plotly': ['https://cdn.plot.ly/plotly-2.18.2.min']\n",
       "            }\n",
       "        });\n",
       "        require(['plotly'], function(Plotly) {\n",
       "            window._Plotly = Plotly;\n",
       "        });\n",
       "        }\n",
       "        </script>\n",
       "        "
      ]
     },
     "metadata": {},
     "output_type": "display_data"
    }
   ],
   "source": [
    "import some_funcs\n",
    "from some_funcs import simple_ch_client"
   ]
  },
  {
   "cell_type": "code",
   "execution_count": 3,
   "id": "af417621-dc56-4621-8b96-12cb36fe764b",
   "metadata": {
    "execution": {
     "iopub.execute_input": "2024-04-23T14:12:28.808947Z",
     "iopub.status.busy": "2024-04-23T14:12:28.808209Z",
     "iopub.status.idle": "2024-04-23T14:12:28.823350Z",
     "shell.execute_reply": "2024-04-23T14:12:28.822684Z",
     "shell.execute_reply.started": "2024-04-23T14:12:28.808913Z"
    },
    "tags": []
   },
   "outputs": [],
   "source": [
    "my_client = simple_ch_client(CH_HOST, CH_USER, CH_PASS, CH_CASERT)"
   ]
  },
  {
   "cell_type": "code",
   "execution_count": 4,
   "id": "3a6773db-6574-4d19-b7d4-51fae1b2d8cb",
   "metadata": {
    "execution": {
     "iopub.execute_input": "2024-04-23T14:12:29.232566Z",
     "iopub.status.busy": "2024-04-23T14:12:29.231750Z",
     "iopub.status.idle": "2024-04-23T14:12:29.345019Z",
     "shell.execute_reply": "2024-04-23T14:12:29.344215Z",
     "shell.execute_reply.started": "2024-04-23T14:12:29.232519Z"
    },
    "tags": []
   },
   "outputs": [
    {
     "name": "stdout",
     "output_type": "stream",
     "text": [
      "23.8.12.13\n",
      "\n"
     ]
    }
   ],
   "source": [
    "my_client.get_version()"
   ]
  },
  {
   "cell_type": "markdown",
   "id": "33628ca2-34b0-42e4-b623-6805a84e7d14",
   "metadata": {},
   "source": [
    "## Класс работы с атрибуциям\n",
    "Для работы со всеми методами используется класс-интерфейс `DataPreparer` из модуля `analyse_channels_chain`\n",
    "\n",
    "Сначала его надо импортировать, а потом создать экземпляр класса, проинициалиировав его нужными значениями"
   ]
  },
  {
   "cell_type": "code",
   "execution_count": 5,
   "id": "f082783b-d65b-481b-9d16-08be6b4ed909",
   "metadata": {
    "execution": {
     "iopub.execute_input": "2024-04-23T14:12:29.755959Z",
     "iopub.status.busy": "2024-04-23T14:12:29.755136Z",
     "iopub.status.idle": "2024-04-23T14:12:29.797299Z",
     "shell.execute_reply": "2024-04-23T14:12:29.796637Z",
     "shell.execute_reply.started": "2024-04-23T14:12:29.755923Z"
    },
    "tags": []
   },
   "outputs": [],
   "source": [
    "import importlib\n",
    "import analyse_channels_chain\n",
    "from analyse_channels_chain import DataPreparer\n",
    "analyse_channels_chain = importlib.reload(analyse_channels_chain)\n",
    "from analyse_channels_chain import DataPreparer\n",
    "\n",
    "# тут использую reload из importlib, чтобы можно было на лету менять код внутри класса и надежно переимпортировать его для исопльзования в notebook'е"
   ]
  },
  {
   "cell_type": "code",
   "execution_count": 6,
   "id": "53193d23-0ce5-414b-af3c-cafcd65b05d4",
   "metadata": {
    "execution": {
     "iopub.execute_input": "2024-04-23T14:12:30.146785Z",
     "iopub.status.busy": "2024-04-23T14:12:30.145840Z",
     "iopub.status.idle": "2024-04-23T14:12:30.211032Z",
     "shell.execute_reply": "2024-04-23T14:12:30.210169Z",
     "shell.execute_reply.started": "2024-04-23T14:12:30.146742Z"
    },
    "tags": []
   },
   "outputs": [],
   "source": [
    "my_attr_reporter_ex = DataPreparer(table_preffix='data_for_chains', # Префикс таблиц, которые создадутся в процессе анализа\n",
    "                                   raw_visits_table='visits_from_ch', # Название таблицы, в которой лежат визиты из коннектора\n",
    "                                   database=CH_DB_NAME, # Название базы данных\n",
    "                                   start_date='2020-07-01', # Начало периода анализа\n",
    "                                   end_date='2020-09-30', # Конец периода анализа\n",
    "                                   goals=[-1], # Цели для анализа, либо ID целей через запятую, либо [-1] для трактования e-commerce покупки как конверсии, если [] - каждый визит как конверсия\n",
    "                                   my_ch_client=my_client # Экземпляр класса, который ходит в CH\n",
    "                                  )\n",
    "\n"
   ]
  },
  {
   "cell_type": "code",
   "execution_count": 7,
   "id": "611ff238-3b52-4af5-85fe-442c304dc4d9",
   "metadata": {
    "execution": {
     "iopub.execute_input": "2024-04-23T14:12:30.601142Z",
     "iopub.status.busy": "2024-04-23T14:12:30.600247Z",
     "iopub.status.idle": "2024-04-23T14:12:49.635385Z",
     "shell.execute_reply": "2024-04-23T14:12:49.634669Z",
     "shell.execute_reply.started": "2024-04-23T14:12:30.601095Z"
    },
    "tags": []
   },
   "outputs": [
    {
     "name": "stderr",
     "output_type": "stream",
     "text": [
      "100%|██████████| 92/92 [00:18<00:00,  4.90it/s]\n"
     ]
    }
   ],
   "source": [
    "my_attr_reporter_ex.prepare_visits_data(debug=False)"
   ]
  },
  {
   "cell_type": "markdown",
   "id": "a806e508-de44-4ff5-bc69-9bd2a648f447",
   "metadata": {},
   "source": [
    "Выполняем метод `сombine_visits`\n",
    "\n",
    "Этот метода создает таблицу с цепочками переходов по каждому пользователю. 1 элемент цепочки - 1 касание. В данной версии в качестве касания может выступать визит, у которого есть источнник перехода.\n",
    "Каждая цепочка может кончится либо визитом либо пустотой - если после последнего перехода прошло достаточно времени, чтобы констатировать отток пользователя. \n",
    "Отток может произойти либо посередине истории пользователя, когда время между соседними касаниями-визитами больше чем 95% персентиль расстояния между визитами в среднем на счетчике.\n",
    "Также отток может произойти, если между последним визитом и концоп исследуемого периода тоже прошло столько же времени\n",
    "Тип элемента цепочки, который отвечает за касание визита - `2_VISIT`, тип элемента цепочки, отвечающий за отток - `0_NULL`. Отток может быть только в конце цепочки.\n",
    "\n",
    "Цепочки представлены в массивах `history.*`\n",
    "* `history.VisitID` - `VisitID` каждого элемента цепочки (если элемент - визит). \n",
    "* `history.SourceCode` - Код источника трафика\n",
    "* `history.StartTime` - Время элемента цепочки в таймзоне счетчика \n",
    "* `history.UTCStartTime` - Время элемента цепочки в UTC\n",
    "* `history.EventType` - тип элемента цепочки (`0_NULL` - отток, `2_VISIT` - визит)\n",
    "* `history.Duration` - Длительность визита, если элемент цепочки - визит\n",
    "* `history.Conversions` - Конверсии в визите, если элемент цепочки - визит\n"
   ]
  },
  {
   "cell_type": "code",
   "execution_count": 8,
   "id": "6761c4c0-5011-4cc2-8f20-5f63d56317c4",
   "metadata": {
    "execution": {
     "iopub.execute_input": "2024-04-23T14:12:49.637815Z",
     "iopub.status.busy": "2024-04-23T14:12:49.636526Z",
     "iopub.status.idle": "2024-04-23T14:13:02.724474Z",
     "shell.execute_reply": "2024-04-23T14:13:02.723763Z",
     "shell.execute_reply.started": "2024-04-23T14:12:49.637777Z"
    },
    "tags": []
   },
   "outputs": [
    {
     "name": "stderr",
     "output_type": "stream",
     "text": [
      "100%|██████████| 100/100 [00:12<00:00,  7.83it/s]\n"
     ]
    }
   ],
   "source": [
    "my_attr_reporter_ex.combine_visits(debug=False)"
   ]
  },
  {
   "cell_type": "markdown",
   "id": "d844dc67-fc3a-4047-97f6-6a135270636b",
   "metadata": {},
   "source": [
    "Выполняем метод `simple_attributions` - считает простые позиционные атрибуции и возвращает DataFrame с результатами"
   ]
  },
  {
   "cell_type": "code",
   "execution_count": 9,
   "id": "1b9c7466-2a35-45b1-9a6e-880974f27169",
   "metadata": {
    "execution": {
     "iopub.execute_input": "2024-04-23T14:13:02.726845Z",
     "iopub.status.busy": "2024-04-23T14:13:02.726214Z",
     "iopub.status.idle": "2024-04-23T14:13:04.129013Z",
     "shell.execute_reply": "2024-04-23T14:13:04.128221Z",
     "shell.execute_reply.started": "2024-04-23T14:13:02.726816Z"
    },
    "tags": []
   },
   "outputs": [],
   "source": [
    "simple_reports_df = my_attr_reporter_ex.simple_attributions()"
   ]
  },
  {
   "cell_type": "markdown",
   "id": "8f10a612-2cb6-48bb-a50c-3796de1eb7dc",
   "metadata": {
    "tags": []
   },
   "source": [
    "#### Легенда полей\n",
    "* SourceCode - код источника трафика\n",
    "* SourceName - название источника трафика\n",
    "* LastClickVisits, LastClickConvs, LastClickRevenue - Визиты, конверсии и доход в атрибуции \"Последний клик\"\n",
    "* FirstClickVisits, FirstClickConvs, FirstClickRevenue - Визиты, конверсии и доход в атрибуции \"Первый клик\"\n",
    "* LastSignClickVisits, LastSignClickConvs, LastSignClickRevenue - Визиты, конверсии и доход в атрибуции \"Последний значимый клик\"\n",
    "* LastSignDirectVisits, LastSignDirectConvs, LastSignDirectRevenue - Визиты, конверсии и доход в атрибуции \"Последний переход их Яндекс.Директа\"\n",
    "* LinearAttrVisits, LinearAttrConvs, LinearAttrRevenue - Визиты, конверсии и доход в атрибуции \"Линейная\" / \"Равномерная\""
   ]
  },
  {
   "cell_type": "code",
   "execution_count": 10,
   "id": "18112472-b676-4234-80c4-267120ad0c13",
   "metadata": {
    "execution": {
     "iopub.execute_input": "2024-04-23T14:13:04.131413Z",
     "iopub.status.busy": "2024-04-23T14:13:04.130605Z",
     "iopub.status.idle": "2024-04-23T14:13:04.206572Z",
     "shell.execute_reply": "2024-04-23T14:13:04.205824Z",
     "shell.execute_reply.started": "2024-04-23T14:13:04.131377Z"
    },
    "tags": []
   },
   "outputs": [
    {
     "data": {
      "text/html": [
       "<div>\n",
       "<style scoped>\n",
       "    .dataframe tbody tr th:only-of-type {\n",
       "        vertical-align: middle;\n",
       "    }\n",
       "\n",
       "    .dataframe tbody tr th {\n",
       "        vertical-align: top;\n",
       "    }\n",
       "\n",
       "    .dataframe thead th {\n",
       "        text-align: right;\n",
       "    }\n",
       "</style>\n",
       "<table border=\"1\" class=\"dataframe\">\n",
       "  <thead>\n",
       "    <tr style=\"text-align: right;\">\n",
       "      <th></th>\n",
       "      <th>SourceCode</th>\n",
       "      <th>LastClickVisits</th>\n",
       "      <th>LastClickConvs</th>\n",
       "      <th>LastClickRevenue</th>\n",
       "      <th>FirstClickVisits</th>\n",
       "      <th>FirstClickConvs</th>\n",
       "      <th>FirstClickRevenue</th>\n",
       "      <th>LastSignClickVisits</th>\n",
       "      <th>LastSignClickConvs</th>\n",
       "      <th>LastSignClickRevenue</th>\n",
       "      <th>LastSignDirectVisits</th>\n",
       "      <th>LastSignDirectConvs</th>\n",
       "      <th>LastSignDirectRevenue</th>\n",
       "      <th>LinearAttrVisits</th>\n",
       "      <th>LinearAttrConvs</th>\n",
       "      <th>LinearAttrRevenue</th>\n",
       "      <th>SourceName</th>\n",
       "    </tr>\n",
       "  </thead>\n",
       "  <tbody>\n",
       "    <tr>\n",
       "      <th>21</th>\n",
       "      <td>0</td>\n",
       "      <td>101042</td>\n",
       "      <td>6283</td>\n",
       "      <td>114114048</td>\n",
       "      <td>104807</td>\n",
       "      <td>7837</td>\n",
       "      <td>142798562</td>\n",
       "      <td>79548</td>\n",
       "      <td>4012</td>\n",
       "      <td>74024281</td>\n",
       "      <td>79548</td>\n",
       "      <td>4012</td>\n",
       "      <td>74024281</td>\n",
       "      <td>100918.366184</td>\n",
       "      <td>6744.020878</td>\n",
       "      <td>1.235206e+08</td>\n",
       "      <td>Прямые</td>\n",
       "    </tr>\n",
       "    <tr>\n",
       "      <th>48</th>\n",
       "      <td>-1</td>\n",
       "      <td>30553</td>\n",
       "      <td>5456</td>\n",
       "      <td>106392970</td>\n",
       "      <td>13005</td>\n",
       "      <td>1478</td>\n",
       "      <td>29312835</td>\n",
       "      <td>11632</td>\n",
       "      <td>2483</td>\n",
       "      <td>47533137</td>\n",
       "      <td>11632</td>\n",
       "      <td>2483</td>\n",
       "      <td>47533137</td>\n",
       "      <td>27122.649930</td>\n",
       "      <td>4150.968194</td>\n",
       "      <td>7.984752e+07</td>\n",
       "      <td>Внутренние</td>\n",
       "    </tr>\n",
       "    <tr>\n",
       "      <th>38</th>\n",
       "      <td>3_1</td>\n",
       "      <td>55536</td>\n",
       "      <td>3093</td>\n",
       "      <td>52457649</td>\n",
       "      <td>57478</td>\n",
       "      <td>3817</td>\n",
       "      <td>65012746</td>\n",
       "      <td>66529</td>\n",
       "      <td>4693</td>\n",
       "      <td>82028130</td>\n",
       "      <td>82198</td>\n",
       "      <td>6381</td>\n",
       "      <td>111974755</td>\n",
       "      <td>55539.388303</td>\n",
       "      <td>3402.366498</td>\n",
       "      <td>5.866221e+07</td>\n",
       "      <td>Реклама, Яндекс</td>\n",
       "    </tr>\n",
       "    <tr>\n",
       "      <th>17</th>\n",
       "      <td>3_2</td>\n",
       "      <td>30936</td>\n",
       "      <td>1716</td>\n",
       "      <td>28992189</td>\n",
       "      <td>33687</td>\n",
       "      <td>2289</td>\n",
       "      <td>41497761</td>\n",
       "      <td>37408</td>\n",
       "      <td>2721</td>\n",
       "      <td>48264346</td>\n",
       "      <td>33797</td>\n",
       "      <td>2471</td>\n",
       "      <td>43730557</td>\n",
       "      <td>31561.132468</td>\n",
       "      <td>1935.844344</td>\n",
       "      <td>3.314529e+07</td>\n",
       "      <td>Реклама, Google Ads</td>\n",
       "    </tr>\n",
       "    <tr>\n",
       "      <th>25</th>\n",
       "      <td>2_2</td>\n",
       "      <td>28085</td>\n",
       "      <td>1498</td>\n",
       "      <td>26458009</td>\n",
       "      <td>31709</td>\n",
       "      <td>2001</td>\n",
       "      <td>37019060</td>\n",
       "      <td>31950</td>\n",
       "      <td>2000</td>\n",
       "      <td>37126521</td>\n",
       "      <td>26868</td>\n",
       "      <td>1425</td>\n",
       "      <td>26205641</td>\n",
       "      <td>29005.268252</td>\n",
       "      <td>1625.473877</td>\n",
       "      <td>2.904904e+07</td>\n",
       "      <td>Поиск, Яндекс, результаты поиска</td>\n",
       "    </tr>\n",
       "    <tr>\n",
       "      <th>29</th>\n",
       "      <td>2_3</td>\n",
       "      <td>77643</td>\n",
       "      <td>872</td>\n",
       "      <td>14454278</td>\n",
       "      <td>80611</td>\n",
       "      <td>1295</td>\n",
       "      <td>22186918</td>\n",
       "      <td>81735</td>\n",
       "      <td>1418</td>\n",
       "      <td>26147697</td>\n",
       "      <td>80730</td>\n",
       "      <td>1340</td>\n",
       "      <td>24295136</td>\n",
       "      <td>78675.797383</td>\n",
       "      <td>1016.191768</td>\n",
       "      <td>1.758222e+07</td>\n",
       "      <td>Поиск, Google, результаты поиска</td>\n",
       "    </tr>\n",
       "    <tr>\n",
       "      <th>22</th>\n",
       "      <td>7</td>\n",
       "      <td>12699</td>\n",
       "      <td>857</td>\n",
       "      <td>13401950</td>\n",
       "      <td>14374</td>\n",
       "      <td>1307</td>\n",
       "      <td>22053274</td>\n",
       "      <td>18939</td>\n",
       "      <td>1672</td>\n",
       "      <td>27908543</td>\n",
       "      <td>15031</td>\n",
       "      <td>1277</td>\n",
       "      <td>21550519</td>\n",
       "      <td>13037.763958</td>\n",
       "      <td>1047.659232</td>\n",
       "      <td>1.703771e+07</td>\n",
       "      <td>Рассылки</td>\n",
       "    </tr>\n",
       "    <tr>\n",
       "      <th>40</th>\n",
       "      <td>3_46</td>\n",
       "      <td>6014</td>\n",
       "      <td>625</td>\n",
       "      <td>10963860</td>\n",
       "      <td>4967</td>\n",
       "      <td>205</td>\n",
       "      <td>3546827</td>\n",
       "      <td>7776</td>\n",
       "      <td>764</td>\n",
       "      <td>13623114</td>\n",
       "      <td>7115</td>\n",
       "      <td>643</td>\n",
       "      <td>11530770</td>\n",
       "      <td>5794.609705</td>\n",
       "      <td>381.263716</td>\n",
       "      <td>6.589406e+06</td>\n",
       "      <td>Реклама, Admitad</td>\n",
       "    </tr>\n",
       "    <tr>\n",
       "      <th>49</th>\n",
       "      <td>3_81</td>\n",
       "      <td>17000</td>\n",
       "      <td>250</td>\n",
       "      <td>4203197</td>\n",
       "      <td>16307</td>\n",
       "      <td>136</td>\n",
       "      <td>2526054</td>\n",
       "      <td>18361</td>\n",
       "      <td>386</td>\n",
       "      <td>6465948</td>\n",
       "      <td>17628</td>\n",
       "      <td>293</td>\n",
       "      <td>5013755</td>\n",
       "      <td>16873.967945</td>\n",
       "      <td>201.909080</td>\n",
       "      <td>3.350581e+06</td>\n",
       "      <td>Реклама, Определено по меткам</td>\n",
       "    </tr>\n",
       "    <tr>\n",
       "      <th>51</th>\n",
       "      <td>2_13</td>\n",
       "      <td>11829</td>\n",
       "      <td>246</td>\n",
       "      <td>3773450</td>\n",
       "      <td>13440</td>\n",
       "      <td>308</td>\n",
       "      <td>5013348</td>\n",
       "      <td>12423</td>\n",
       "      <td>314</td>\n",
       "      <td>5017087</td>\n",
       "      <td>11618</td>\n",
       "      <td>233</td>\n",
       "      <td>3890580</td>\n",
       "      <td>12377.621218</td>\n",
       "      <td>254.623440</td>\n",
       "      <td>4.123624e+06</td>\n",
       "      <td>Поиск, Мобильный Яндекс</td>\n",
       "    </tr>\n",
       "  </tbody>\n",
       "</table>\n",
       "</div>"
      ],
      "text/plain": [
       "   SourceCode  ...                        SourceName\n",
       "21          0  ...                            Прямые\n",
       "48         -1  ...                        Внутренние\n",
       "38        3_1  ...                   Реклама, Яндекс\n",
       "17        3_2  ...               Реклама, Google Ads\n",
       "25        2_2  ...  Поиск, Яндекс, результаты поиска\n",
       "29        2_3  ...  Поиск, Google, результаты поиска\n",
       "22          7  ...                          Рассылки\n",
       "40       3_46  ...                  Реклама, Admitad\n",
       "49       3_81  ...     Реклама, Определено по меткам\n",
       "51       2_13  ...           Поиск, Мобильный Яндекс\n",
       "\n",
       "[10 rows x 17 columns]"
      ]
     },
     "execution_count": 10,
     "metadata": {},
     "output_type": "execute_result"
    }
   ],
   "source": [
    "simple_reports_df.sort_values('LastClickRevenue', ascending=False).head(10)"
   ]
  },
  {
   "cell_type": "markdown",
   "id": "56221729-df7e-430f-a502-cfe004dd7c2a",
   "metadata": {
    "execution": {
     "iopub.execute_input": "2024-04-23T11:11:19.506367Z",
     "iopub.status.busy": "2024-04-23T11:11:19.505600Z",
     "iopub.status.idle": "2024-04-23T11:11:19.516861Z",
     "shell.execute_reply": "2024-04-23T11:11:19.515975Z",
     "shell.execute_reply.started": "2024-04-23T11:11:19.506321Z"
    },
    "tags": []
   },
   "source": [
    "Выполняем метод `associated_conversions` - считает ассоциированные конверсии и возвращает DataFrame с результатами"
   ]
  },
  {
   "cell_type": "code",
   "execution_count": 11,
   "id": "f34e4e92-d381-4e0f-bb9e-e5245cb807f0",
   "metadata": {
    "execution": {
     "iopub.execute_input": "2024-04-23T14:13:04.208359Z",
     "iopub.status.busy": "2024-04-23T14:13:04.207614Z",
     "iopub.status.idle": "2024-04-23T14:13:04.495568Z",
     "shell.execute_reply": "2024-04-23T14:13:04.494763Z",
     "shell.execute_reply.started": "2024-04-23T14:13:04.208323Z"
    },
    "tags": []
   },
   "outputs": [],
   "source": [
    "associated_conversions_df = my_attr_reporter_ex.associated_conversions()"
   ]
  },
  {
   "cell_type": "markdown",
   "id": "ec7b38fe-2c9e-4598-b9d6-b4049c394f99",
   "metadata": {
    "execution": {
     "iopub.execute_input": "2024-04-23T11:12:22.410296Z",
     "iopub.status.busy": "2024-04-23T11:12:22.409806Z",
     "iopub.status.idle": "2024-04-23T11:12:22.430739Z",
     "shell.execute_reply": "2024-04-23T11:12:22.429696Z",
     "shell.execute_reply.started": "2024-04-23T11:12:22.410264Z"
    }
   },
   "source": [
    "#### Легенда полей\n",
    "* SourceCode - код источника трафика\n",
    "* SourceName - название источника трафика\n",
    "* AssociatedVisits, AssociatedConvs, AssociatedRevenue - Визиты, конверсии и доход ассоциированные с источником"
   ]
  },
  {
   "cell_type": "code",
   "execution_count": 12,
   "id": "fd030dfc-8fb2-4f93-80cc-b4a738313ee6",
   "metadata": {
    "execution": {
     "iopub.execute_input": "2024-04-23T14:13:04.497110Z",
     "iopub.status.busy": "2024-04-23T14:13:04.496618Z",
     "iopub.status.idle": "2024-04-23T14:13:04.539891Z",
     "shell.execute_reply": "2024-04-23T14:13:04.539184Z",
     "shell.execute_reply.started": "2024-04-23T14:13:04.497075Z"
    },
    "tags": []
   },
   "outputs": [
    {
     "data": {
      "text/html": [
       "<div>\n",
       "<style scoped>\n",
       "    .dataframe tbody tr th:only-of-type {\n",
       "        vertical-align: middle;\n",
       "    }\n",
       "\n",
       "    .dataframe tbody tr th {\n",
       "        vertical-align: top;\n",
       "    }\n",
       "\n",
       "    .dataframe thead th {\n",
       "        text-align: right;\n",
       "    }\n",
       "</style>\n",
       "<table border=\"1\" class=\"dataframe\">\n",
       "  <thead>\n",
       "    <tr style=\"text-align: right;\">\n",
       "      <th></th>\n",
       "      <th>SourceCode</th>\n",
       "      <th>AssociatedVisits</th>\n",
       "      <th>AssociatedConvs</th>\n",
       "      <th>AssociatedRevenue</th>\n",
       "      <th>SourceName</th>\n",
       "    </tr>\n",
       "  </thead>\n",
       "  <tbody>\n",
       "    <tr>\n",
       "      <th>21</th>\n",
       "      <td>0</td>\n",
       "      <td>134516</td>\n",
       "      <td>11549</td>\n",
       "      <td>210620340</td>\n",
       "      <td>Прямые</td>\n",
       "    </tr>\n",
       "    <tr>\n",
       "      <th>48</th>\n",
       "      <td>-1</td>\n",
       "      <td>66835</td>\n",
       "      <td>9932</td>\n",
       "      <td>190126993</td>\n",
       "      <td>Внутренние</td>\n",
       "    </tr>\n",
       "    <tr>\n",
       "      <th>38</th>\n",
       "      <td>3_1</td>\n",
       "      <td>85466</td>\n",
       "      <td>6528</td>\n",
       "      <td>113905636</td>\n",
       "      <td>Реклама, Яндекс</td>\n",
       "    </tr>\n",
       "    <tr>\n",
       "      <th>17</th>\n",
       "      <td>3_2</td>\n",
       "      <td>52116</td>\n",
       "      <td>4112</td>\n",
       "      <td>72618365</td>\n",
       "      <td>Реклама, Google Ads</td>\n",
       "    </tr>\n",
       "    <tr>\n",
       "      <th>25</th>\n",
       "      <td>2_2</td>\n",
       "      <td>45432</td>\n",
       "      <td>3293</td>\n",
       "      <td>60171163</td>\n",
       "      <td>Поиск, Яндекс, результаты поиска</td>\n",
       "    </tr>\n",
       "    <tr>\n",
       "      <th>22</th>\n",
       "      <td>7</td>\n",
       "      <td>31068</td>\n",
       "      <td>2948</td>\n",
       "      <td>49962698</td>\n",
       "      <td>Рассылки</td>\n",
       "    </tr>\n",
       "    <tr>\n",
       "      <th>29</th>\n",
       "      <td>2_3</td>\n",
       "      <td>89407</td>\n",
       "      <td>1985</td>\n",
       "      <td>36031322</td>\n",
       "      <td>Поиск, Google, результаты поиска</td>\n",
       "    </tr>\n",
       "    <tr>\n",
       "      <th>23</th>\n",
       "      <td>3_66</td>\n",
       "      <td>13613</td>\n",
       "      <td>1215</td>\n",
       "      <td>18643447</td>\n",
       "      <td>Реклама, Criteo</td>\n",
       "    </tr>\n",
       "    <tr>\n",
       "      <th>40</th>\n",
       "      <td>3_46</td>\n",
       "      <td>12014</td>\n",
       "      <td>986</td>\n",
       "      <td>17826467</td>\n",
       "      <td>Реклама, Admitad</td>\n",
       "    </tr>\n",
       "    <tr>\n",
       "      <th>49</th>\n",
       "      <td>3_81</td>\n",
       "      <td>24254</td>\n",
       "      <td>849</td>\n",
       "      <td>14032027</td>\n",
       "      <td>Реклама, Определено по меткам</td>\n",
       "    </tr>\n",
       "  </tbody>\n",
       "</table>\n",
       "</div>"
      ],
      "text/plain": [
       "   SourceCode  ...                        SourceName\n",
       "21          0  ...                            Прямые\n",
       "48         -1  ...                        Внутренние\n",
       "38        3_1  ...                   Реклама, Яндекс\n",
       "17        3_2  ...               Реклама, Google Ads\n",
       "25        2_2  ...  Поиск, Яндекс, результаты поиска\n",
       "22          7  ...                          Рассылки\n",
       "29        2_3  ...  Поиск, Google, результаты поиска\n",
       "23       3_66  ...                   Реклама, Criteo\n",
       "40       3_46  ...                  Реклама, Admitad\n",
       "49       3_81  ...     Реклама, Определено по меткам\n",
       "\n",
       "[10 rows x 5 columns]"
      ]
     },
     "execution_count": 12,
     "metadata": {},
     "output_type": "execute_result"
    }
   ],
   "source": [
    "associated_conversions_df.sort_values('AssociatedConvs', ascending=False).head(10)"
   ]
  },
  {
   "cell_type": "markdown",
   "id": "a1bbe3d3-99f1-4e44-a957-51496d3e1a21",
   "metadata": {},
   "source": [
    "Выполняем метод `source_in_chains_metrics` - считает позиционные метрики источников в цепочках"
   ]
  },
  {
   "cell_type": "code",
   "execution_count": 13,
   "id": "7322456f-a5f3-46e3-a3a8-53d6b7236219",
   "metadata": {
    "execution": {
     "iopub.execute_input": "2024-04-23T14:13:04.542932Z",
     "iopub.status.busy": "2024-04-23T14:13:04.540897Z",
     "iopub.status.idle": "2024-04-23T14:13:06.920422Z",
     "shell.execute_reply": "2024-04-23T14:13:06.919618Z",
     "shell.execute_reply.started": "2024-04-23T14:13:04.542890Z"
    },
    "tags": []
   },
   "outputs": [],
   "source": [
    "source_in_chains_df = my_attr_reporter_ex.source_in_chains_metrics()"
   ]
  },
  {
   "cell_type": "markdown",
   "id": "73aed7c9-270e-4e3e-9701-0da50311df94",
   "metadata": {
    "execution": {
     "iopub.execute_input": "2024-04-23T11:14:20.431306Z",
     "iopub.status.busy": "2024-04-23T11:14:20.430538Z",
     "iopub.status.idle": "2024-04-23T11:14:20.444405Z",
     "shell.execute_reply": "2024-04-23T11:14:20.443293Z",
     "shell.execute_reply.started": "2024-04-23T11:14:20.431269Z"
    }
   },
   "source": [
    "#### Легенда полей\n",
    "* in_chain_perc_total - Средний вес в цепочке (Число касаний во всех цепочках деленное на общее число касаний)\n",
    "* unique_chains_perc - Доля уникальных цепочек (Число уникальных цепочек, в которых источник имел хоть одно касание, поделенное на общее число цепочек)\n",
    "* first_touch_total - Доля первых касаний (Число уникальных цепочек, в которых источник был первым касание, поделенное на общее число цепочек)\n",
    "* first_touch_2plus - Доля первых касаний (2+ цепочки) (то же, что и выше, но только для цепочек с более чем 1 касанием)\n",
    "* mid_touch_3plus - Доля промежуточных касаний (Число уникальных цепочек, в которых источник был промежуточным касанием, поделенное на общее число цепочек)\n",
    "* last_touch_total - Доля последних касаний (Число уникальных цепочек, в которых источник был последним касание, поделенное на общее число цепочек)\n",
    "* last_touch_2plus - Доля последних касаний (2+ цепочки) (то же, что и выше, но только для цепочек с более чем 1 касанием)\n",
    "\n",
    "Соответсвенно то же, что и сверху, но берутся только цепочки с конверсией в конце\n",
    "* in_conv_chains_perc_total\n",
    "* unique_conv_chains_perc\n",
    "* first_touch_conv_total\n",
    "* first_touch_conv_2plus\n",
    "* mid_touch_conv_3plus\n",
    "* last_touch_conv_total\n",
    "* last_touch_conv_2plus"
   ]
  },
  {
   "cell_type": "code",
   "execution_count": 14,
   "id": "9e15c626-4a00-48e3-bbe0-af7955b52eb6",
   "metadata": {
    "execution": {
     "iopub.execute_input": "2024-04-23T14:13:06.923238Z",
     "iopub.status.busy": "2024-04-23T14:13:06.922778Z",
     "iopub.status.idle": "2024-04-23T14:13:06.962629Z",
     "shell.execute_reply": "2024-04-23T14:13:06.961937Z",
     "shell.execute_reply.started": "2024-04-23T14:13:06.923203Z"
    },
    "tags": []
   },
   "outputs": [
    {
     "data": {
      "text/html": [
       "<div>\n",
       "<style scoped>\n",
       "    .dataframe tbody tr th:only-of-type {\n",
       "        vertical-align: middle;\n",
       "    }\n",
       "\n",
       "    .dataframe tbody tr th {\n",
       "        vertical-align: top;\n",
       "    }\n",
       "\n",
       "    .dataframe thead th {\n",
       "        text-align: right;\n",
       "    }\n",
       "</style>\n",
       "<table border=\"1\" class=\"dataframe\">\n",
       "  <thead>\n",
       "    <tr style=\"text-align: right;\">\n",
       "      <th></th>\n",
       "      <th>SourceCode</th>\n",
       "      <th>in_chain_perc_total</th>\n",
       "      <th>in_conv_chains_perc_total</th>\n",
       "      <th>unique_chains_perc</th>\n",
       "      <th>unique_conv_chains_perc</th>\n",
       "      <th>first_touch_2plus</th>\n",
       "      <th>first_touch_conv_2plus</th>\n",
       "      <th>first_touch_total</th>\n",
       "      <th>first_touch_conv_total</th>\n",
       "      <th>mid_touch_3plus</th>\n",
       "      <th>mid_touch_conv_3plus</th>\n",
       "      <th>last_touch_2plus</th>\n",
       "      <th>last_touch_conv_2plus</th>\n",
       "      <th>last_touch_total</th>\n",
       "      <th>last_touch_conv_total</th>\n",
       "      <th>SourceName</th>\n",
       "    </tr>\n",
       "  </thead>\n",
       "  <tbody>\n",
       "    <tr>\n",
       "      <th>21</th>\n",
       "      <td>0</td>\n",
       "      <td>0.315733</td>\n",
       "      <td>0.331467</td>\n",
       "      <td>0.296455</td>\n",
       "      <td>0.515714</td>\n",
       "      <td>0.283208</td>\n",
       "      <td>0.360425</td>\n",
       "      <td>0.232083</td>\n",
       "      <td>0.349396</td>\n",
       "      <td>0.575019</td>\n",
       "      <td>0.627035</td>\n",
       "      <td>0.258896</td>\n",
       "      <td>0.290809</td>\n",
       "      <td>0.223746</td>\n",
       "      <td>0.298464</td>\n",
       "      <td>Прямые</td>\n",
       "    </tr>\n",
       "    <tr>\n",
       "      <th>48</th>\n",
       "      <td>-1</td>\n",
       "      <td>0.222883</td>\n",
       "      <td>0.271061</td>\n",
       "      <td>0.147349</td>\n",
       "      <td>0.438591</td>\n",
       "      <td>0.058277</td>\n",
       "      <td>0.062935</td>\n",
       "      <td>0.028798</td>\n",
       "      <td>0.058615</td>\n",
       "      <td>0.571803</td>\n",
       "      <td>0.642451</td>\n",
       "      <td>0.171588</td>\n",
       "      <td>0.291491</td>\n",
       "      <td>0.067656</td>\n",
       "      <td>0.225831</td>\n",
       "      <td>Внутренние</td>\n",
       "    </tr>\n",
       "    <tr>\n",
       "      <th>38</th>\n",
       "      <td>3_1</td>\n",
       "      <td>0.138960</td>\n",
       "      <td>0.144486</td>\n",
       "      <td>0.189111</td>\n",
       "      <td>0.321710</td>\n",
       "      <td>0.175624</td>\n",
       "      <td>0.187168</td>\n",
       "      <td>0.127278</td>\n",
       "      <td>0.188566</td>\n",
       "      <td>0.392233</td>\n",
       "      <td>0.373446</td>\n",
       "      <td>0.163084</td>\n",
       "      <td>0.138620</td>\n",
       "      <td>0.122978</td>\n",
       "      <td>0.153048</td>\n",
       "      <td>Реклама, Яндекс</td>\n",
       "    </tr>\n",
       "    <tr>\n",
       "      <th>17</th>\n",
       "      <td>3_2</td>\n",
       "      <td>0.080824</td>\n",
       "      <td>0.091631</td>\n",
       "      <td>0.115405</td>\n",
       "      <td>0.201636</td>\n",
       "      <td>0.086527</td>\n",
       "      <td>0.108209</td>\n",
       "      <td>0.074596</td>\n",
       "      <td>0.111793</td>\n",
       "      <td>0.235419</td>\n",
       "      <td>0.237402</td>\n",
       "      <td>0.068763</td>\n",
       "      <td>0.070980</td>\n",
       "      <td>0.068504</td>\n",
       "      <td>0.084556</td>\n",
       "      <td>Реклама, Google Ads</td>\n",
       "    </tr>\n",
       "    <tr>\n",
       "      <th>25</th>\n",
       "      <td>2_2</td>\n",
       "      <td>0.054990</td>\n",
       "      <td>0.043973</td>\n",
       "      <td>0.100604</td>\n",
       "      <td>0.162227</td>\n",
       "      <td>0.091221</td>\n",
       "      <td>0.093209</td>\n",
       "      <td>0.070216</td>\n",
       "      <td>0.098474</td>\n",
       "      <td>0.184292</td>\n",
       "      <td>0.167164</td>\n",
       "      <td>0.067820</td>\n",
       "      <td>0.059048</td>\n",
       "      <td>0.062191</td>\n",
       "      <td>0.073481</td>\n",
       "      <td>Поиск, Яндекс, результаты поиска</td>\n",
       "    </tr>\n",
       "    <tr>\n",
       "      <th>23</th>\n",
       "      <td>7</td>\n",
       "      <td>0.031336</td>\n",
       "      <td>0.038150</td>\n",
       "      <td>0.068796</td>\n",
       "      <td>0.145366</td>\n",
       "      <td>0.055519</td>\n",
       "      <td>0.068662</td>\n",
       "      <td>0.031830</td>\n",
       "      <td>0.064851</td>\n",
       "      <td>0.203715</td>\n",
       "      <td>0.191926</td>\n",
       "      <td>0.044703</td>\n",
       "      <td>0.037774</td>\n",
       "      <td>0.028120</td>\n",
       "      <td>0.042253</td>\n",
       "      <td>Рассылки</td>\n",
       "    </tr>\n",
       "    <tr>\n",
       "      <th>29</th>\n",
       "      <td>2_3</td>\n",
       "      <td>0.044902</td>\n",
       "      <td>0.020274</td>\n",
       "      <td>0.198070</td>\n",
       "      <td>0.093335</td>\n",
       "      <td>0.100617</td>\n",
       "      <td>0.055434</td>\n",
       "      <td>0.178504</td>\n",
       "      <td>0.060611</td>\n",
       "      <td>0.109611</td>\n",
       "      <td>0.082282</td>\n",
       "      <td>0.081452</td>\n",
       "      <td>0.030479</td>\n",
       "      <td>0.171931</td>\n",
       "      <td>0.042353</td>\n",
       "      <td>Поиск, Google, результаты поиска</td>\n",
       "    </tr>\n",
       "    <tr>\n",
       "      <th>22</th>\n",
       "      <td>3_66</td>\n",
       "      <td>0.016016</td>\n",
       "      <td>0.015911</td>\n",
       "      <td>0.030144</td>\n",
       "      <td>0.059713</td>\n",
       "      <td>0.008465</td>\n",
       "      <td>0.009478</td>\n",
       "      <td>0.003747</td>\n",
       "      <td>0.007183</td>\n",
       "      <td>0.122549</td>\n",
       "      <td>0.104056</td>\n",
       "      <td>0.015110</td>\n",
       "      <td>0.004909</td>\n",
       "      <td>0.006025</td>\n",
       "      <td>0.003841</td>\n",
       "      <td>Реклама, Criteo</td>\n",
       "    </tr>\n",
       "    <tr>\n",
       "      <th>41</th>\n",
       "      <td>3_46</td>\n",
       "      <td>0.009714</td>\n",
       "      <td>0.010215</td>\n",
       "      <td>0.026604</td>\n",
       "      <td>0.048588</td>\n",
       "      <td>0.011830</td>\n",
       "      <td>0.006614</td>\n",
       "      <td>0.010999</td>\n",
       "      <td>0.010177</td>\n",
       "      <td>0.066872</td>\n",
       "      <td>0.053473</td>\n",
       "      <td>0.018590</td>\n",
       "      <td>0.034774</td>\n",
       "      <td>0.013317</td>\n",
       "      <td>0.030779</td>\n",
       "      <td>Реклама, Admitad</td>\n",
       "    </tr>\n",
       "    <tr>\n",
       "      <th>49</th>\n",
       "      <td>3_81</td>\n",
       "      <td>0.017697</td>\n",
       "      <td>0.010219</td>\n",
       "      <td>0.053708</td>\n",
       "      <td>0.041654</td>\n",
       "      <td>0.026100</td>\n",
       "      <td>0.006682</td>\n",
       "      <td>0.036110</td>\n",
       "      <td>0.006635</td>\n",
       "      <td>0.085478</td>\n",
       "      <td>0.063205</td>\n",
       "      <td>0.030575</td>\n",
       "      <td>0.014455</td>\n",
       "      <td>0.037645</td>\n",
       "      <td>0.012322</td>\n",
       "      <td>Реклама, Определено по меткам</td>\n",
       "    </tr>\n",
       "  </tbody>\n",
       "</table>\n",
       "</div>"
      ],
      "text/plain": [
       "   SourceCode  ...                        SourceName\n",
       "21          0  ...                            Прямые\n",
       "48         -1  ...                        Внутренние\n",
       "38        3_1  ...                   Реклама, Яндекс\n",
       "17        3_2  ...               Реклама, Google Ads\n",
       "25        2_2  ...  Поиск, Яндекс, результаты поиска\n",
       "23          7  ...                          Рассылки\n",
       "29        2_3  ...  Поиск, Google, результаты поиска\n",
       "22       3_66  ...                   Реклама, Criteo\n",
       "41       3_46  ...                  Реклама, Admitad\n",
       "49       3_81  ...     Реклама, Определено по меткам\n",
       "\n",
       "[10 rows x 16 columns]"
      ]
     },
     "execution_count": 14,
     "metadata": {},
     "output_type": "execute_result"
    }
   ],
   "source": [
    "source_in_chains_df.sort_values('unique_conv_chains_perc', ascending=False).head(10)"
   ]
  },
  {
   "cell_type": "markdown",
   "id": "a5e6cf5e-a55e-4b37-a706-07762f04b2f3",
   "metadata": {
    "execution": {
     "iopub.execute_input": "2024-04-23T11:28:13.409716Z",
     "iopub.status.busy": "2024-04-23T11:28:13.408656Z",
     "iopub.status.idle": "2024-04-23T11:28:13.420708Z",
     "shell.execute_reply": "2024-04-23T11:28:13.419573Z",
     "shell.execute_reply.started": "2024-04-23T11:28:13.409672Z"
    }
   },
   "source": [
    "## Нарисуем таблицы в Plotly"
   ]
  },
  {
   "cell_type": "code",
   "execution_count": 15,
   "id": "9fe5b46b-1f7d-4854-8b27-be800cc3aa49",
   "metadata": {
    "execution": {
     "iopub.execute_input": "2024-04-23T14:13:06.964439Z",
     "iopub.status.busy": "2024-04-23T14:13:06.963954Z",
     "iopub.status.idle": "2024-04-23T14:13:12.493545Z",
     "shell.execute_reply": "2024-04-23T14:13:12.492710Z",
     "shell.execute_reply.started": "2024-04-23T14:13:06.964402Z"
    },
    "tags": []
   },
   "outputs": [],
   "source": [
    "import plotly.figure_factory as ff\n",
    "import plotly.graph_objects as go"
   ]
  },
  {
   "cell_type": "markdown",
   "id": "7894166e-2cd4-440f-8657-6ca5ede9bb67",
   "metadata": {},
   "source": [
    "Сначала проанализируем все цепочки"
   ]
  },
  {
   "cell_type": "code",
   "execution_count": 16,
   "id": "d56b4d21-0479-4bcf-abea-1b0491b51f39",
   "metadata": {
    "execution": {
     "iopub.execute_input": "2024-04-23T14:13:12.497899Z",
     "iopub.status.busy": "2024-04-23T14:13:12.496056Z",
     "iopub.status.idle": "2024-04-23T14:13:12.510483Z",
     "shell.execute_reply": "2024-04-23T14:13:12.509798Z",
     "shell.execute_reply.started": "2024-04-23T14:13:12.497852Z"
    },
    "tags": []
   },
   "outputs": [],
   "source": [
    "def plotly_pretty_table(df, width=1200, height=340, columnwidth = [30, 10, 10, 10, 10, 10, 10, 10]):\n",
    "    fig = go.Figure(data=[go.Table(\n",
    "        header=dict(\n",
    "            values=list(df.columns),\n",
    "            fill_color='navy',  # Цвет фона заголовков\n",
    "            align=['left', 'center', 'center'],  # Выравнивание текста в заголовках\n",
    "            font=dict(color='white', size=12),  # Шрифт заголовков\n",
    "            height=30  # Высота заголовков\n",
    "        ),\n",
    "        cells=dict(\n",
    "            values=[df[col] for col in df.columns],\n",
    "            fill=dict(color=['paleturquoise', 'lavender']),  # Чередование цветов ячеек\n",
    "            align=['left', 'center', 'center'],  # Выравнивание текста в ячейках\n",
    "            font=dict(color='black', size=11),  # Шрифт ячеек\n",
    "            height=25  # Высота ячеек\n",
    "        )\n",
    "    )])\n",
    "\n",
    "    # Настраиваем ширину столбцов\n",
    "    fig.update_layout(\n",
    "        width=width,  # Общая ширина таблицы, может быть настроена\n",
    "        height=height  # Высота таблицы\n",
    "    )\n",
    "\n",
    "    fig.update_layout(\n",
    "        font=dict(family=\"Calibri\", size=12, color=\"black\"),  # Установка шрифта, размера и цвета текста\n",
    "        paper_bgcolor='rgba(155,155,155,1)',  # Цвет фона таблицы\n",
    "        margin=dict(l=10, r=10, t=10, b=10)  # Отступы вокруг таблицы\n",
    "    )\n",
    "\n",
    "\n",
    "    fig.data[0].columnwidth = columnwidth  # Пропорции ширин столбцов\n",
    "    fig.show()"
   ]
  },
  {
   "cell_type": "code",
   "execution_count": 17,
   "id": "cfbc002a-b9da-4a84-b3d1-b26a1dde8a03",
   "metadata": {
    "execution": {
     "iopub.execute_input": "2024-04-23T14:13:12.511898Z",
     "iopub.status.busy": "2024-04-23T14:13:12.511406Z",
     "iopub.status.idle": "2024-04-23T14:13:12.704781Z",
     "shell.execute_reply": "2024-04-23T14:13:12.703866Z",
     "shell.execute_reply.started": "2024-04-23T14:13:12.511864Z"
    },
    "tags": []
   },
   "outputs": [
    {
     "data": {
      "application/vnd.plotly.v1+json": {
       "config": {
        "plotlyServerURL": "https://plot.ly"
       },
       "data": [
        {
         "cells": {
          "align": [
           "left",
           "center",
           "center"
          ],
          "fill": {
           "color": [
            "paleturquoise",
            "lavender"
           ]
          },
          "font": {
           "color": "black",
           "size": 11
          },
          "height": 25,
          "values": [
           [
            "Прямые",
            "Внутренние",
            "Реклама, Яндекс",
            "Реклама, Google Ads",
            "Поиск, Яндекс, результаты поиска",
            "Рассылки",
            "Поиск, Google, результаты поиска",
            "Реклама, Criteo",
            "Реклама, Admitad",
            "Реклама, Определено по меткам"
           ],
           [
            "134,516",
            "66,835",
            "85,466",
            "52,116",
            "45,432",
            "31,068",
            "89,407",
            "13,613",
            "12,014",
            "24,254"
           ],
           [
            "11,549",
            "9,932",
            "6,528",
            "4,112",
            "3,293",
            "2,948",
            "1,985",
            "1,215",
            "986",
            "849"
           ],
           [
            "210,620,340",
            "190,126,993",
            "113,905,636",
            "72,618,365",
            "60,171,163",
            "49,962,698",
            "36,031,322",
            "18,643,447",
            "17,826,467",
            "14,032,027"
           ]
          ]
         },
         "columnwidth": [
          15,
          10,
          10,
          10
         ],
         "header": {
          "align": [
           "left",
           "center",
           "center"
          ],
          "fill": {
           "color": "navy"
          },
          "font": {
           "color": "white",
           "size": 12
          },
          "height": 30,
          "values": [
           "Источник",
           "Ассоциированные визиты",
           "Ассоциированные конверсии",
           "Ассоциированные доходы"
          ]
         },
         "type": "table"
        }
       ],
       "layout": {
        "font": {
         "color": "black",
         "family": "Calibri",
         "size": 12
        },
        "height": 340,
        "margin": {
         "b": 10,
         "l": 10,
         "r": 10,
         "t": 10
        },
        "paper_bgcolor": "rgba(155,155,155,1)",
        "template": {
         "data": {
          "bar": [
           {
            "error_x": {
             "color": "#2a3f5f"
            },
            "error_y": {
             "color": "#2a3f5f"
            },
            "marker": {
             "line": {
              "color": "#E5ECF6",
              "width": 0.5
             },
             "pattern": {
              "fillmode": "overlay",
              "size": 10,
              "solidity": 0.2
             }
            },
            "type": "bar"
           }
          ],
          "barpolar": [
           {
            "marker": {
             "line": {
              "color": "#E5ECF6",
              "width": 0.5
             },
             "pattern": {
              "fillmode": "overlay",
              "size": 10,
              "solidity": 0.2
             }
            },
            "type": "barpolar"
           }
          ],
          "carpet": [
           {
            "aaxis": {
             "endlinecolor": "#2a3f5f",
             "gridcolor": "white",
             "linecolor": "white",
             "minorgridcolor": "white",
             "startlinecolor": "#2a3f5f"
            },
            "baxis": {
             "endlinecolor": "#2a3f5f",
             "gridcolor": "white",
             "linecolor": "white",
             "minorgridcolor": "white",
             "startlinecolor": "#2a3f5f"
            },
            "type": "carpet"
           }
          ],
          "choropleth": [
           {
            "colorbar": {
             "outlinewidth": 0,
             "ticks": ""
            },
            "type": "choropleth"
           }
          ],
          "contour": [
           {
            "colorbar": {
             "outlinewidth": 0,
             "ticks": ""
            },
            "colorscale": [
             [
              0,
              "#0d0887"
             ],
             [
              0.1111111111111111,
              "#46039f"
             ],
             [
              0.2222222222222222,
              "#7201a8"
             ],
             [
              0.3333333333333333,
              "#9c179e"
             ],
             [
              0.4444444444444444,
              "#bd3786"
             ],
             [
              0.5555555555555556,
              "#d8576b"
             ],
             [
              0.6666666666666666,
              "#ed7953"
             ],
             [
              0.7777777777777778,
              "#fb9f3a"
             ],
             [
              0.8888888888888888,
              "#fdca26"
             ],
             [
              1,
              "#f0f921"
             ]
            ],
            "type": "contour"
           }
          ],
          "contourcarpet": [
           {
            "colorbar": {
             "outlinewidth": 0,
             "ticks": ""
            },
            "type": "contourcarpet"
           }
          ],
          "heatmap": [
           {
            "colorbar": {
             "outlinewidth": 0,
             "ticks": ""
            },
            "colorscale": [
             [
              0,
              "#0d0887"
             ],
             [
              0.1111111111111111,
              "#46039f"
             ],
             [
              0.2222222222222222,
              "#7201a8"
             ],
             [
              0.3333333333333333,
              "#9c179e"
             ],
             [
              0.4444444444444444,
              "#bd3786"
             ],
             [
              0.5555555555555556,
              "#d8576b"
             ],
             [
              0.6666666666666666,
              "#ed7953"
             ],
             [
              0.7777777777777778,
              "#fb9f3a"
             ],
             [
              0.8888888888888888,
              "#fdca26"
             ],
             [
              1,
              "#f0f921"
             ]
            ],
            "type": "heatmap"
           }
          ],
          "heatmapgl": [
           {
            "colorbar": {
             "outlinewidth": 0,
             "ticks": ""
            },
            "colorscale": [
             [
              0,
              "#0d0887"
             ],
             [
              0.1111111111111111,
              "#46039f"
             ],
             [
              0.2222222222222222,
              "#7201a8"
             ],
             [
              0.3333333333333333,
              "#9c179e"
             ],
             [
              0.4444444444444444,
              "#bd3786"
             ],
             [
              0.5555555555555556,
              "#d8576b"
             ],
             [
              0.6666666666666666,
              "#ed7953"
             ],
             [
              0.7777777777777778,
              "#fb9f3a"
             ],
             [
              0.8888888888888888,
              "#fdca26"
             ],
             [
              1,
              "#f0f921"
             ]
            ],
            "type": "heatmapgl"
           }
          ],
          "histogram": [
           {
            "marker": {
             "pattern": {
              "fillmode": "overlay",
              "size": 10,
              "solidity": 0.2
             }
            },
            "type": "histogram"
           }
          ],
          "histogram2d": [
           {
            "colorbar": {
             "outlinewidth": 0,
             "ticks": ""
            },
            "colorscale": [
             [
              0,
              "#0d0887"
             ],
             [
              0.1111111111111111,
              "#46039f"
             ],
             [
              0.2222222222222222,
              "#7201a8"
             ],
             [
              0.3333333333333333,
              "#9c179e"
             ],
             [
              0.4444444444444444,
              "#bd3786"
             ],
             [
              0.5555555555555556,
              "#d8576b"
             ],
             [
              0.6666666666666666,
              "#ed7953"
             ],
             [
              0.7777777777777778,
              "#fb9f3a"
             ],
             [
              0.8888888888888888,
              "#fdca26"
             ],
             [
              1,
              "#f0f921"
             ]
            ],
            "type": "histogram2d"
           }
          ],
          "histogram2dcontour": [
           {
            "colorbar": {
             "outlinewidth": 0,
             "ticks": ""
            },
            "colorscale": [
             [
              0,
              "#0d0887"
             ],
             [
              0.1111111111111111,
              "#46039f"
             ],
             [
              0.2222222222222222,
              "#7201a8"
             ],
             [
              0.3333333333333333,
              "#9c179e"
             ],
             [
              0.4444444444444444,
              "#bd3786"
             ],
             [
              0.5555555555555556,
              "#d8576b"
             ],
             [
              0.6666666666666666,
              "#ed7953"
             ],
             [
              0.7777777777777778,
              "#fb9f3a"
             ],
             [
              0.8888888888888888,
              "#fdca26"
             ],
             [
              1,
              "#f0f921"
             ]
            ],
            "type": "histogram2dcontour"
           }
          ],
          "mesh3d": [
           {
            "colorbar": {
             "outlinewidth": 0,
             "ticks": ""
            },
            "type": "mesh3d"
           }
          ],
          "parcoords": [
           {
            "line": {
             "colorbar": {
              "outlinewidth": 0,
              "ticks": ""
             }
            },
            "type": "parcoords"
           }
          ],
          "pie": [
           {
            "automargin": true,
            "type": "pie"
           }
          ],
          "scatter": [
           {
            "fillpattern": {
             "fillmode": "overlay",
             "size": 10,
             "solidity": 0.2
            },
            "type": "scatter"
           }
          ],
          "scatter3d": [
           {
            "line": {
             "colorbar": {
              "outlinewidth": 0,
              "ticks": ""
             }
            },
            "marker": {
             "colorbar": {
              "outlinewidth": 0,
              "ticks": ""
             }
            },
            "type": "scatter3d"
           }
          ],
          "scattercarpet": [
           {
            "marker": {
             "colorbar": {
              "outlinewidth": 0,
              "ticks": ""
             }
            },
            "type": "scattercarpet"
           }
          ],
          "scattergeo": [
           {
            "marker": {
             "colorbar": {
              "outlinewidth": 0,
              "ticks": ""
             }
            },
            "type": "scattergeo"
           }
          ],
          "scattergl": [
           {
            "marker": {
             "colorbar": {
              "outlinewidth": 0,
              "ticks": ""
             }
            },
            "type": "scattergl"
           }
          ],
          "scattermapbox": [
           {
            "marker": {
             "colorbar": {
              "outlinewidth": 0,
              "ticks": ""
             }
            },
            "type": "scattermapbox"
           }
          ],
          "scatterpolar": [
           {
            "marker": {
             "colorbar": {
              "outlinewidth": 0,
              "ticks": ""
             }
            },
            "type": "scatterpolar"
           }
          ],
          "scatterpolargl": [
           {
            "marker": {
             "colorbar": {
              "outlinewidth": 0,
              "ticks": ""
             }
            },
            "type": "scatterpolargl"
           }
          ],
          "scatterternary": [
           {
            "marker": {
             "colorbar": {
              "outlinewidth": 0,
              "ticks": ""
             }
            },
            "type": "scatterternary"
           }
          ],
          "surface": [
           {
            "colorbar": {
             "outlinewidth": 0,
             "ticks": ""
            },
            "colorscale": [
             [
              0,
              "#0d0887"
             ],
             [
              0.1111111111111111,
              "#46039f"
             ],
             [
              0.2222222222222222,
              "#7201a8"
             ],
             [
              0.3333333333333333,
              "#9c179e"
             ],
             [
              0.4444444444444444,
              "#bd3786"
             ],
             [
              0.5555555555555556,
              "#d8576b"
             ],
             [
              0.6666666666666666,
              "#ed7953"
             ],
             [
              0.7777777777777778,
              "#fb9f3a"
             ],
             [
              0.8888888888888888,
              "#fdca26"
             ],
             [
              1,
              "#f0f921"
             ]
            ],
            "type": "surface"
           }
          ],
          "table": [
           {
            "cells": {
             "fill": {
              "color": "#EBF0F8"
             },
             "line": {
              "color": "white"
             }
            },
            "header": {
             "fill": {
              "color": "#C8D4E3"
             },
             "line": {
              "color": "white"
             }
            },
            "type": "table"
           }
          ]
         },
         "layout": {
          "annotationdefaults": {
           "arrowcolor": "#2a3f5f",
           "arrowhead": 0,
           "arrowwidth": 1
          },
          "autotypenumbers": "strict",
          "coloraxis": {
           "colorbar": {
            "outlinewidth": 0,
            "ticks": ""
           }
          },
          "colorscale": {
           "diverging": [
            [
             0,
             "#8e0152"
            ],
            [
             0.1,
             "#c51b7d"
            ],
            [
             0.2,
             "#de77ae"
            ],
            [
             0.3,
             "#f1b6da"
            ],
            [
             0.4,
             "#fde0ef"
            ],
            [
             0.5,
             "#f7f7f7"
            ],
            [
             0.6,
             "#e6f5d0"
            ],
            [
             0.7,
             "#b8e186"
            ],
            [
             0.8,
             "#7fbc41"
            ],
            [
             0.9,
             "#4d9221"
            ],
            [
             1,
             "#276419"
            ]
           ],
           "sequential": [
            [
             0,
             "#0d0887"
            ],
            [
             0.1111111111111111,
             "#46039f"
            ],
            [
             0.2222222222222222,
             "#7201a8"
            ],
            [
             0.3333333333333333,
             "#9c179e"
            ],
            [
             0.4444444444444444,
             "#bd3786"
            ],
            [
             0.5555555555555556,
             "#d8576b"
            ],
            [
             0.6666666666666666,
             "#ed7953"
            ],
            [
             0.7777777777777778,
             "#fb9f3a"
            ],
            [
             0.8888888888888888,
             "#fdca26"
            ],
            [
             1,
             "#f0f921"
            ]
           ],
           "sequentialminus": [
            [
             0,
             "#0d0887"
            ],
            [
             0.1111111111111111,
             "#46039f"
            ],
            [
             0.2222222222222222,
             "#7201a8"
            ],
            [
             0.3333333333333333,
             "#9c179e"
            ],
            [
             0.4444444444444444,
             "#bd3786"
            ],
            [
             0.5555555555555556,
             "#d8576b"
            ],
            [
             0.6666666666666666,
             "#ed7953"
            ],
            [
             0.7777777777777778,
             "#fb9f3a"
            ],
            [
             0.8888888888888888,
             "#fdca26"
            ],
            [
             1,
             "#f0f921"
            ]
           ]
          },
          "colorway": [
           "#636efa",
           "#EF553B",
           "#00cc96",
           "#ab63fa",
           "#FFA15A",
           "#19d3f3",
           "#FF6692",
           "#B6E880",
           "#FF97FF",
           "#FECB52"
          ],
          "font": {
           "color": "#2a3f5f"
          },
          "geo": {
           "bgcolor": "white",
           "lakecolor": "white",
           "landcolor": "#E5ECF6",
           "showlakes": true,
           "showland": true,
           "subunitcolor": "white"
          },
          "hoverlabel": {
           "align": "left"
          },
          "hovermode": "closest",
          "mapbox": {
           "style": "light"
          },
          "paper_bgcolor": "white",
          "plot_bgcolor": "#E5ECF6",
          "polar": {
           "angularaxis": {
            "gridcolor": "white",
            "linecolor": "white",
            "ticks": ""
           },
           "bgcolor": "#E5ECF6",
           "radialaxis": {
            "gridcolor": "white",
            "linecolor": "white",
            "ticks": ""
           }
          },
          "scene": {
           "xaxis": {
            "backgroundcolor": "#E5ECF6",
            "gridcolor": "white",
            "gridwidth": 2,
            "linecolor": "white",
            "showbackground": true,
            "ticks": "",
            "zerolinecolor": "white"
           },
           "yaxis": {
            "backgroundcolor": "#E5ECF6",
            "gridcolor": "white",
            "gridwidth": 2,
            "linecolor": "white",
            "showbackground": true,
            "ticks": "",
            "zerolinecolor": "white"
           },
           "zaxis": {
            "backgroundcolor": "#E5ECF6",
            "gridcolor": "white",
            "gridwidth": 2,
            "linecolor": "white",
            "showbackground": true,
            "ticks": "",
            "zerolinecolor": "white"
           }
          },
          "shapedefaults": {
           "line": {
            "color": "#2a3f5f"
           }
          },
          "ternary": {
           "aaxis": {
            "gridcolor": "white",
            "linecolor": "white",
            "ticks": ""
           },
           "baxis": {
            "gridcolor": "white",
            "linecolor": "white",
            "ticks": ""
           },
           "bgcolor": "#E5ECF6",
           "caxis": {
            "gridcolor": "white",
            "linecolor": "white",
            "ticks": ""
           }
          },
          "title": {
           "x": 0.05
          },
          "xaxis": {
           "automargin": true,
           "gridcolor": "white",
           "linecolor": "white",
           "ticks": "",
           "title": {
            "standoff": 15
           },
           "zerolinecolor": "white",
           "zerolinewidth": 2
          },
          "yaxis": {
           "automargin": true,
           "gridcolor": "white",
           "linecolor": "white",
           "ticks": "",
           "title": {
            "standoff": 15
           },
           "zerolinecolor": "white",
           "zerolinewidth": 2
          }
         }
        },
        "width": 1000
       }
      },
      "image/png": "[encoded data removed]",
      "text/html": [
       "<div>                            <div id=\"0ebc8cda-68b3-4f57-a9d6-067de7aa59da\" class=\"plotly-graph-div\" style=\"height:340px; width:1000px;\"></div>            <script type=\"text/javascript\">                require([\"plotly\"], function(Plotly) {                    window.PLOTLYENV=window.PLOTLYENV || {};                                    if (document.getElementById(\"0ebc8cda-68b3-4f57-a9d6-067de7aa59da\")) {                    Plotly.newPlot(                        \"0ebc8cda-68b3-4f57-a9d6-067de7aa59da\",                        [{\"cells\":{\"align\":[\"left\",\"center\",\"center\"],\"fill\":{\"color\":[\"paleturquoise\",\"lavender\"]},\"font\":{\"color\":\"black\",\"size\":11},\"height\":25,\"values\":[[\"Прямые\",\"Внутренние\",\"Реклама, Яндекс\",\"Реклама, Google Ads\",\"Поиск, Яндекс, результаты поиска\",\"Рассылки\",\"Поиск, Google, результаты поиска\",\"Реклама, Criteo\",\"Реклама, Admitad\",\"Реклама, Определено по меткам\"],[\"134,516\",\"66,835\",\"85,466\",\"52,116\",\"45,432\",\"31,068\",\"89,407\",\"13,613\",\"12,014\",\"24,254\"],[\"11,549\",\"9,932\",\"6,528\",\"4,112\",\"3,293\",\"2,948\",\"1,985\",\"1,215\",\"986\",\"849\"],[\"210,620,340\",\"190,126,993\",\"113,905,636\",\"72,618,365\",\"60,171,163\",\"49,962,698\",\"36,031,322\",\"18,643,447\",\"17,826,467\",\"14,032,027\"]]},\"header\":{\"align\":[\"left\",\"center\",\"center\"],\"fill\":{\"color\":\"navy\"},\"font\":{\"color\":\"white\",\"size\":12},\"height\":30,\"values\":[\"Источник\",\"Ассоциированные визиты\",\"Ассоциированные конверсии\",\"Ассоциированные доходы\"]},\"type\":\"table\",\"columnwidth\":[15,10,10,10]}],                        {\"template\":{\"data\":{\"histogram2dcontour\":[{\"type\":\"histogram2dcontour\",\"colorbar\":{\"outlinewidth\":0,\"ticks\":\"\"},\"colorscale\":[[0.0,\"#0d0887\"],[0.1111111111111111,\"#46039f\"],[0.2222222222222222,\"#7201a8\"],[0.3333333333333333,\"#9c179e\"],[0.4444444444444444,\"#bd3786\"],[0.5555555555555556,\"#d8576b\"],[0.6666666666666666,\"#ed7953\"],[0.7777777777777778,\"#fb9f3a\"],[0.8888888888888888,\"#fdca26\"],[1.0,\"#f0f921\"]]}],\"choropleth\":[{\"type\":\"choropleth\",\"colorbar\":{\"outlinewidth\":0,\"ticks\":\"\"}}],\"histogram2d\":[{\"type\":\"histogram2d\",\"colorbar\":{\"outlinewidth\":0,\"ticks\":\"\"},\"colorscale\":[[0.0,\"#0d0887\"],[0.1111111111111111,\"#46039f\"],[0.2222222222222222,\"#7201a8\"],[0.3333333333333333,\"#9c179e\"],[0.4444444444444444,\"#bd3786\"],[0.5555555555555556,\"#d8576b\"],[0.6666666666666666,\"#ed7953\"],[0.7777777777777778,\"#fb9f3a\"],[0.8888888888888888,\"#fdca26\"],[1.0,\"#f0f921\"]]}],\"heatmap\":[{\"type\":\"heatmap\",\"colorbar\":{\"outlinewidth\":0,\"ticks\":\"\"},\"colorscale\":[[0.0,\"#0d0887\"],[0.1111111111111111,\"#46039f\"],[0.2222222222222222,\"#7201a8\"],[0.3333333333333333,\"#9c179e\"],[0.4444444444444444,\"#bd3786\"],[0.5555555555555556,\"#d8576b\"],[0.6666666666666666,\"#ed7953\"],[0.7777777777777778,\"#fb9f3a\"],[0.8888888888888888,\"#fdca26\"],[1.0,\"#f0f921\"]]}],\"heatmapgl\":[{\"type\":\"heatmapgl\",\"colorbar\":{\"outlinewidth\":0,\"ticks\":\"\"},\"colorscale\":[[0.0,\"#0d0887\"],[0.1111111111111111,\"#46039f\"],[0.2222222222222222,\"#7201a8\"],[0.3333333333333333,\"#9c179e\"],[0.4444444444444444,\"#bd3786\"],[0.5555555555555556,\"#d8576b\"],[0.6666666666666666,\"#ed7953\"],[0.7777777777777778,\"#fb9f3a\"],[0.8888888888888888,\"#fdca26\"],[1.0,\"#f0f921\"]]}],\"contourcarpet\":[{\"type\":\"contourcarpet\",\"colorbar\":{\"outlinewidth\":0,\"ticks\":\"\"}}],\"contour\":[{\"type\":\"contour\",\"colorbar\":{\"outlinewidth\":0,\"ticks\":\"\"},\"colorscale\":[[0.0,\"#0d0887\"],[0.1111111111111111,\"#46039f\"],[0.2222222222222222,\"#7201a8\"],[0.3333333333333333,\"#9c179e\"],[0.4444444444444444,\"#bd3786\"],[0.5555555555555556,\"#d8576b\"],[0.6666666666666666,\"#ed7953\"],[0.7777777777777778,\"#fb9f3a\"],[0.8888888888888888,\"#fdca26\"],[1.0,\"#f0f921\"]]}],\"surface\":[{\"type\":\"surface\",\"colorbar\":{\"outlinewidth\":0,\"ticks\":\"\"},\"colorscale\":[[0.0,\"#0d0887\"],[0.1111111111111111,\"#46039f\"],[0.2222222222222222,\"#7201a8\"],[0.3333333333333333,\"#9c179e\"],[0.4444444444444444,\"#bd3786\"],[0.5555555555555556,\"#d8576b\"],[0.6666666666666666,\"#ed7953\"],[0.7777777777777778,\"#fb9f3a\"],[0.8888888888888888,\"#fdca26\"],[1.0,\"#f0f921\"]]}],\"mesh3d\":[{\"type\":\"mesh3d\",\"colorbar\":{\"outlinewidth\":0,\"ticks\":\"\"}}],\"scatter\":[{\"fillpattern\":{\"fillmode\":\"overlay\",\"size\":10,\"solidity\":0.2},\"type\":\"scatter\"}],\"parcoords\":[{\"type\":\"parcoords\",\"line\":{\"colorbar\":{\"outlinewidth\":0,\"ticks\":\"\"}}}],\"scatterpolargl\":[{\"type\":\"scatterpolargl\",\"marker\":{\"colorbar\":{\"outlinewidth\":0,\"ticks\":\"\"}}}],\"bar\":[{\"error_x\":{\"color\":\"#2a3f5f\"},\"error_y\":{\"color\":\"#2a3f5f\"},\"marker\":{\"line\":{\"color\":\"#E5ECF6\",\"width\":0.5},\"pattern\":{\"fillmode\":\"overlay\",\"size\":10,\"solidity\":0.2}},\"type\":\"bar\"}],\"scattergeo\":[{\"type\":\"scattergeo\",\"marker\":{\"colorbar\":{\"outlinewidth\":0,\"ticks\":\"\"}}}],\"scatterpolar\":[{\"type\":\"scatterpolar\",\"marker\":{\"colorbar\":{\"outlinewidth\":0,\"ticks\":\"\"}}}],\"histogram\":[{\"marker\":{\"pattern\":{\"fillmode\":\"overlay\",\"size\":10,\"solidity\":0.2}},\"type\":\"histogram\"}],\"scattergl\":[{\"type\":\"scattergl\",\"marker\":{\"colorbar\":{\"outlinewidth\":0,\"ticks\":\"\"}}}],\"scatter3d\":[{\"type\":\"scatter3d\",\"line\":{\"colorbar\":{\"outlinewidth\":0,\"ticks\":\"\"}},\"marker\":{\"colorbar\":{\"outlinewidth\":0,\"ticks\":\"\"}}}],\"scattermapbox\":[{\"type\":\"scattermapbox\",\"marker\":{\"colorbar\":{\"outlinewidth\":0,\"ticks\":\"\"}}}],\"scatterternary\":[{\"type\":\"scatterternary\",\"marker\":{\"colorbar\":{\"outlinewidth\":0,\"ticks\":\"\"}}}],\"scattercarpet\":[{\"type\":\"scattercarpet\",\"marker\":{\"colorbar\":{\"outlinewidth\":0,\"ticks\":\"\"}}}],\"carpet\":[{\"aaxis\":{\"endlinecolor\":\"#2a3f5f\",\"gridcolor\":\"white\",\"linecolor\":\"white\",\"minorgridcolor\":\"white\",\"startlinecolor\":\"#2a3f5f\"},\"baxis\":{\"endlinecolor\":\"#2a3f5f\",\"gridcolor\":\"white\",\"linecolor\":\"white\",\"minorgridcolor\":\"white\",\"startlinecolor\":\"#2a3f5f\"},\"type\":\"carpet\"}],\"table\":[{\"cells\":{\"fill\":{\"color\":\"#EBF0F8\"},\"line\":{\"color\":\"white\"}},\"header\":{\"fill\":{\"color\":\"#C8D4E3\"},\"line\":{\"color\":\"white\"}},\"type\":\"table\"}],\"barpolar\":[{\"marker\":{\"line\":{\"color\":\"#E5ECF6\",\"width\":0.5},\"pattern\":{\"fillmode\":\"overlay\",\"size\":10,\"solidity\":0.2}},\"type\":\"barpolar\"}],\"pie\":[{\"automargin\":true,\"type\":\"pie\"}]},\"layout\":{\"autotypenumbers\":\"strict\",\"colorway\":[\"#636efa\",\"#EF553B\",\"#00cc96\",\"#ab63fa\",\"#FFA15A\",\"#19d3f3\",\"#FF6692\",\"#B6E880\",\"#FF97FF\",\"#FECB52\"],\"font\":{\"color\":\"#2a3f5f\"},\"hovermode\":\"closest\",\"hoverlabel\":{\"align\":\"left\"},\"paper_bgcolor\":\"white\",\"plot_bgcolor\":\"#E5ECF6\",\"polar\":{\"bgcolor\":\"#E5ECF6\",\"angularaxis\":{\"gridcolor\":\"white\",\"linecolor\":\"white\",\"ticks\":\"\"},\"radialaxis\":{\"gridcolor\":\"white\",\"linecolor\":\"white\",\"ticks\":\"\"}},\"ternary\":{\"bgcolor\":\"#E5ECF6\",\"aaxis\":{\"gridcolor\":\"white\",\"linecolor\":\"white\",\"ticks\":\"\"},\"baxis\":{\"gridcolor\":\"white\",\"linecolor\":\"white\",\"ticks\":\"\"},\"caxis\":{\"gridcolor\":\"white\",\"linecolor\":\"white\",\"ticks\":\"\"}},\"coloraxis\":{\"colorbar\":{\"outlinewidth\":0,\"ticks\":\"\"}},\"colorscale\":{\"sequential\":[[0.0,\"#0d0887\"],[0.1111111111111111,\"#46039f\"],[0.2222222222222222,\"#7201a8\"],[0.3333333333333333,\"#9c179e\"],[0.4444444444444444,\"#bd3786\"],[0.5555555555555556,\"#d8576b\"],[0.6666666666666666,\"#ed7953\"],[0.7777777777777778,\"#fb9f3a\"],[0.8888888888888888,\"#fdca26\"],[1.0,\"#f0f921\"]],\"sequentialminus\":[[0.0,\"#0d0887\"],[0.1111111111111111,\"#46039f\"],[0.2222222222222222,\"#7201a8\"],[0.3333333333333333,\"#9c179e\"],[0.4444444444444444,\"#bd3786\"],[0.5555555555555556,\"#d8576b\"],[0.6666666666666666,\"#ed7953\"],[0.7777777777777778,\"#fb9f3a\"],[0.8888888888888888,\"#fdca26\"],[1.0,\"#f0f921\"]],\"diverging\":[[0,\"#8e0152\"],[0.1,\"#c51b7d\"],[0.2,\"#de77ae\"],[0.3,\"#f1b6da\"],[0.4,\"#fde0ef\"],[0.5,\"#f7f7f7\"],[0.6,\"#e6f5d0\"],[0.7,\"#b8e186\"],[0.8,\"#7fbc41\"],[0.9,\"#4d9221\"],[1,\"#276419\"]]},\"xaxis\":{\"gridcolor\":\"white\",\"linecolor\":\"white\",\"ticks\":\"\",\"title\":{\"standoff\":15},\"zerolinecolor\":\"white\",\"automargin\":true,\"zerolinewidth\":2},\"yaxis\":{\"gridcolor\":\"white\",\"linecolor\":\"white\",\"ticks\":\"\",\"title\":{\"standoff\":15},\"zerolinecolor\":\"white\",\"automargin\":true,\"zerolinewidth\":2},\"scene\":{\"xaxis\":{\"backgroundcolor\":\"#E5ECF6\",\"gridcolor\":\"white\",\"linecolor\":\"white\",\"showbackground\":true,\"ticks\":\"\",\"zerolinecolor\":\"white\",\"gridwidth\":2},\"yaxis\":{\"backgroundcolor\":\"#E5ECF6\",\"gridcolor\":\"white\",\"linecolor\":\"white\",\"showbackground\":true,\"ticks\":\"\",\"zerolinecolor\":\"white\",\"gridwidth\":2},\"zaxis\":{\"backgroundcolor\":\"#E5ECF6\",\"gridcolor\":\"white\",\"linecolor\":\"white\",\"showbackground\":true,\"ticks\":\"\",\"zerolinecolor\":\"white\",\"gridwidth\":2}},\"shapedefaults\":{\"line\":{\"color\":\"#2a3f5f\"}},\"annotationdefaults\":{\"arrowcolor\":\"#2a3f5f\",\"arrowhead\":0,\"arrowwidth\":1},\"geo\":{\"bgcolor\":\"white\",\"landcolor\":\"#E5ECF6\",\"subunitcolor\":\"white\",\"showland\":true,\"showlakes\":true,\"lakecolor\":\"white\"},\"title\":{\"x\":0.05},\"mapbox\":{\"style\":\"light\"}}},\"width\":1000,\"height\":340,\"font\":{\"family\":\"Calibri\",\"size\":12,\"color\":\"black\"},\"margin\":{\"l\":10,\"r\":10,\"t\":10,\"b\":10},\"paper_bgcolor\":\"rgba(155,155,155,1)\"},                        {\"responsive\": true}                    ).then(function(){\n",
       "                            \n",
       "var gd = document.getElementById('0ebc8cda-68b3-4f57-a9d6-067de7aa59da');\n",
       "var x = new MutationObserver(function (mutations, observer) {{\n",
       "        var display = window.getComputedStyle(gd).display;\n",
       "        if (!display || display === 'none') {{\n",
       "            console.log([gd, 'removed!']);\n",
       "            Plotly.purge(gd);\n",
       "            observer.disconnect();\n",
       "        }}\n",
       "}});\n",
       "\n",
       "// Listen for the removal of the full notebook cells\n",
       "var notebookContainer = gd.closest('#notebook-container');\n",
       "if (notebookContainer) {{\n",
       "    x.observe(notebookContainer, {childList: true});\n",
       "}}\n",
       "\n",
       "// Listen for the clearing of the current output cell\n",
       "var outputEl = gd.closest('.output');\n",
       "if (outputEl) {{\n",
       "    x.observe(outputEl, {childList: true});\n",
       "}}\n",
       "\n",
       "                        })                };                });            </script>        </div>"
      ]
     },
     "metadata": {},
     "output_type": "display_data"
    }
   ],
   "source": [
    "associated_conversions_formatted_df = associated_conversions_df[['SourceName', 'AssociatedVisits', 'AssociatedConvs', 'AssociatedRevenue']] \\\n",
    "    .sort_values('AssociatedConvs', ascending=False) \\\n",
    "    .rename(columns={'SourceName': 'Источник', 'AssociatedVisits': 'Ассоциированные визиты', 'AssociatedConvs': 'Ассоциированные конверсии', \n",
    "                     'AssociatedRevenue': 'Ассоциированные доходы'}) \\\n",
    "    .head(10)\n",
    "\n",
    "associated_conversions_formatted_df['Ассоциированные доходы'] = associated_conversions_formatted_df['Ассоциированные доходы'].apply(lambda x: f\"{x:,}\")\n",
    "associated_conversions_formatted_df['Ассоциированные конверсии'] = associated_conversions_formatted_df['Ассоциированные конверсии'].apply(lambda x: f\"{x:,}\")\n",
    "associated_conversions_formatted_df['Ассоциированные визиты'] = associated_conversions_formatted_df['Ассоциированные визиты'].apply(lambda x: f\"{x:,}\")\n",
    "\n",
    "plotly_pretty_table(associated_conversions_formatted_df, width=1000, height=340, columnwidth = [15, 10, 10, 10])\n"
   ]
  },
  {
   "cell_type": "code",
   "execution_count": 18,
   "id": "5ea96ed2-7cee-4924-b612-e99722bf320b",
   "metadata": {
    "execution": {
     "iopub.execute_input": "2024-04-23T14:13:12.706936Z",
     "iopub.status.busy": "2024-04-23T14:13:12.705901Z",
     "iopub.status.idle": "2024-04-23T14:13:12.750018Z",
     "shell.execute_reply": "2024-04-23T14:13:12.743557Z",
     "shell.execute_reply.started": "2024-04-23T14:13:12.706899Z"
    },
    "tags": []
   },
   "outputs": [
    {
     "data": {
      "application/vnd.plotly.v1+json": {
       "config": {
        "plotlyServerURL": "https://plot.ly"
       },
       "data": [
        {
         "cells": {
          "align": [
           "left",
           "center",
           "center"
          ],
          "fill": {
           "color": [
            "paleturquoise",
            "lavender"
           ]
          },
          "font": {
           "color": "black",
           "size": 11
          },
          "height": 25,
          "values": [
           [
            "Прямые",
            "Поиск, Google, результаты поиска",
            "Реклама, Яндекс",
            "Внутренние",
            "Сайты",
            "Реклама, Google Ads",
            "Поиск, Яндекс, результаты поиска",
            "Рассылки",
            "Реклама, Определено по меткам",
            "Поиск, Мобильный Яндекс"
           ],
           [
            "31.57%",
            "4.49%",
            "13.90%",
            "22.29%",
            "3.08%",
            "8.08%",
            "5.50%",
            "3.13%",
            "1.77%",
            "1.08%"
           ],
           [
            "29.65%",
            "19.81%",
            "18.91%",
            "14.73%",
            "12.79%",
            "11.54%",
            "10.06%",
            "6.88%",
            "5.37%",
            "3.42%"
           ],
           [
            "23.21%",
            "17.85%",
            "12.73%",
            "2.88%",
            "11.30%",
            "7.46%",
            "7.02%",
            "3.18%",
            "3.61%",
            "2.98%"
           ],
           [
            "28.32%",
            "10.06%",
            "17.56%",
            "5.83%",
            "3.73%",
            "8.65%",
            "9.12%",
            "5.55%",
            "2.61%",
            "2.23%"
           ],
           [
            "57.50%",
            "10.96%",
            "39.22%",
            "57.18%",
            "7.61%",
            "23.54%",
            "18.43%",
            "20.37%",
            "8.55%",
            "2.59%"
           ],
           [
            "22.37%",
            "17.19%",
            "12.30%",
            "6.77%",
            "11.10%",
            "6.85%",
            "6.22%",
            "2.81%",
            "3.76%",
            "2.62%"
           ],
           [
            "25.89%",
            "8.15%",
            "16.31%",
            "17.16%",
            "3.14%",
            "6.88%",
            "6.78%",
            "4.47%",
            "3.06%",
            "1.19%"
           ]
          ]
         },
         "columnwidth": [
          30,
          10,
          10,
          10,
          10,
          10,
          10,
          10
         ],
         "header": {
          "align": [
           "left",
           "center",
           "center"
          ],
          "fill": {
           "color": "navy"
          },
          "font": {
           "color": "white",
           "size": 12
          },
          "height": 30,
          "values": [
           "Источник",
           "Средний вес в цепочке",
           "Доля уникальных цепочек",
           "Доля первых касаний",
           "Доля первых касаний (2+ цепочки)",
           "Доля промежуточных касаний",
           "Доля последних касаний",
           "Доля последних касаний (2+ цепочки)"
          ]
         },
         "type": "table"
        }
       ],
       "layout": {
        "font": {
         "color": "black",
         "family": "Calibri",
         "size": 12
        },
        "height": 340,
        "margin": {
         "b": 10,
         "l": 10,
         "r": 10,
         "t": 10
        },
        "paper_bgcolor": "rgba(155,155,155,1)",
        "template": {
         "data": {
          "bar": [
           {
            "error_x": {
             "color": "#2a3f5f"
            },
            "error_y": {
             "color": "#2a3f5f"
            },
            "marker": {
             "line": {
              "color": "#E5ECF6",
              "width": 0.5
             },
             "pattern": {
              "fillmode": "overlay",
              "size": 10,
              "solidity": 0.2
             }
            },
            "type": "bar"
           }
          ],
          "barpolar": [
           {
            "marker": {
             "line": {
              "color": "#E5ECF6",
              "width": 0.5
             },
             "pattern": {
              "fillmode": "overlay",
              "size": 10,
              "solidity": 0.2
             }
            },
            "type": "barpolar"
           }
          ],
          "carpet": [
           {
            "aaxis": {
             "endlinecolor": "#2a3f5f",
             "gridcolor": "white",
             "linecolor": "white",
             "minorgridcolor": "white",
             "startlinecolor": "#2a3f5f"
            },
            "baxis": {
             "endlinecolor": "#2a3f5f",
             "gridcolor": "white",
             "linecolor": "white",
             "minorgridcolor": "white",
             "startlinecolor": "#2a3f5f"
            },
            "type": "carpet"
           }
          ],
          "choropleth": [
           {
            "colorbar": {
             "outlinewidth": 0,
             "ticks": ""
            },
            "type": "choropleth"
           }
          ],
          "contour": [
           {
            "colorbar": {
             "outlinewidth": 0,
             "ticks": ""
            },
            "colorscale": [
             [
              0,
              "#0d0887"
             ],
             [
              0.1111111111111111,
              "#46039f"
             ],
             [
              0.2222222222222222,
              "#7201a8"
             ],
             [
              0.3333333333333333,
              "#9c179e"
             ],
             [
              0.4444444444444444,
              "#bd3786"
             ],
             [
              0.5555555555555556,
              "#d8576b"
             ],
             [
              0.6666666666666666,
              "#ed7953"
             ],
             [
              0.7777777777777778,
              "#fb9f3a"
             ],
             [
              0.8888888888888888,
              "#fdca26"
             ],
             [
              1,
              "#f0f921"
             ]
            ],
            "type": "contour"
           }
          ],
          "contourcarpet": [
           {
            "colorbar": {
             "outlinewidth": 0,
             "ticks": ""
            },
            "type": "contourcarpet"
           }
          ],
          "heatmap": [
           {
            "colorbar": {
             "outlinewidth": 0,
             "ticks": ""
            },
            "colorscale": [
             [
              0,
              "#0d0887"
             ],
             [
              0.1111111111111111,
              "#46039f"
             ],
             [
              0.2222222222222222,
              "#7201a8"
             ],
             [
              0.3333333333333333,
              "#9c179e"
             ],
             [
              0.4444444444444444,
              "#bd3786"
             ],
             [
              0.5555555555555556,
              "#d8576b"
             ],
             [
              0.6666666666666666,
              "#ed7953"
             ],
             [
              0.7777777777777778,
              "#fb9f3a"
             ],
             [
              0.8888888888888888,
              "#fdca26"
             ],
             [
              1,
              "#f0f921"
             ]
            ],
            "type": "heatmap"
           }
          ],
          "heatmapgl": [
           {
            "colorbar": {
             "outlinewidth": 0,
             "ticks": ""
            },
            "colorscale": [
             [
              0,
              "#0d0887"
             ],
             [
              0.1111111111111111,
              "#46039f"
             ],
             [
              0.2222222222222222,
              "#7201a8"
             ],
             [
              0.3333333333333333,
              "#9c179e"
             ],
             [
              0.4444444444444444,
              "#bd3786"
             ],
             [
              0.5555555555555556,
              "#d8576b"
             ],
             [
              0.6666666666666666,
              "#ed7953"
             ],
             [
              0.7777777777777778,
              "#fb9f3a"
             ],
             [
              0.8888888888888888,
              "#fdca26"
             ],
             [
              1,
              "#f0f921"
             ]
            ],
            "type": "heatmapgl"
           }
          ],
          "histogram": [
           {
            "marker": {
             "pattern": {
              "fillmode": "overlay",
              "size": 10,
              "solidity": 0.2
             }
            },
            "type": "histogram"
           }
          ],
          "histogram2d": [
           {
            "colorbar": {
             "outlinewidth": 0,
             "ticks": ""
            },
            "colorscale": [
             [
              0,
              "#0d0887"
             ],
             [
              0.1111111111111111,
              "#46039f"
             ],
             [
              0.2222222222222222,
              "#7201a8"
             ],
             [
              0.3333333333333333,
              "#9c179e"
             ],
             [
              0.4444444444444444,
              "#bd3786"
             ],
             [
              0.5555555555555556,
              "#d8576b"
             ],
             [
              0.6666666666666666,
              "#ed7953"
             ],
             [
              0.7777777777777778,
              "#fb9f3a"
             ],
             [
              0.8888888888888888,
              "#fdca26"
             ],
             [
              1,
              "#f0f921"
             ]
            ],
            "type": "histogram2d"
           }
          ],
          "histogram2dcontour": [
           {
            "colorbar": {
             "outlinewidth": 0,
             "ticks": ""
            },
            "colorscale": [
             [
              0,
              "#0d0887"
             ],
             [
              0.1111111111111111,
              "#46039f"
             ],
             [
              0.2222222222222222,
              "#7201a8"
             ],
             [
              0.3333333333333333,
              "#9c179e"
             ],
             [
              0.4444444444444444,
              "#bd3786"
             ],
             [
              0.5555555555555556,
              "#d8576b"
             ],
             [
              0.6666666666666666,
              "#ed7953"
             ],
             [
              0.7777777777777778,
              "#fb9f3a"
             ],
             [
              0.8888888888888888,
              "#fdca26"
             ],
             [
              1,
              "#f0f921"
             ]
            ],
            "type": "histogram2dcontour"
           }
          ],
          "mesh3d": [
           {
            "colorbar": {
             "outlinewidth": 0,
             "ticks": ""
            },
            "type": "mesh3d"
           }
          ],
          "parcoords": [
           {
            "line": {
             "colorbar": {
              "outlinewidth": 0,
              "ticks": ""
             }
            },
            "type": "parcoords"
           }
          ],
          "pie": [
           {
            "automargin": true,
            "type": "pie"
           }
          ],
          "scatter": [
           {
            "fillpattern": {
             "fillmode": "overlay",
             "size": 10,
             "solidity": 0.2
            },
            "type": "scatter"
           }
          ],
          "scatter3d": [
           {
            "line": {
             "colorbar": {
              "outlinewidth": 0,
              "ticks": ""
             }
            },
            "marker": {
             "colorbar": {
              "outlinewidth": 0,
              "ticks": ""
             }
            },
            "type": "scatter3d"
           }
          ],
          "scattercarpet": [
           {
            "marker": {
             "colorbar": {
              "outlinewidth": 0,
              "ticks": ""
             }
            },
            "type": "scattercarpet"
           }
          ],
          "scattergeo": [
           {
            "marker": {
             "colorbar": {
              "outlinewidth": 0,
              "ticks": ""
             }
            },
            "type": "scattergeo"
           }
          ],
          "scattergl": [
           {
            "marker": {
             "colorbar": {
              "outlinewidth": 0,
              "ticks": ""
             }
            },
            "type": "scattergl"
           }
          ],
          "scattermapbox": [
           {
            "marker": {
             "colorbar": {
              "outlinewidth": 0,
              "ticks": ""
             }
            },
            "type": "scattermapbox"
           }
          ],
          "scatterpolar": [
           {
            "marker": {
             "colorbar": {
              "outlinewidth": 0,
              "ticks": ""
             }
            },
            "type": "scatterpolar"
           }
          ],
          "scatterpolargl": [
           {
            "marker": {
             "colorbar": {
              "outlinewidth": 0,
              "ticks": ""
             }
            },
            "type": "scatterpolargl"
           }
          ],
          "scatterternary": [
           {
            "marker": {
             "colorbar": {
              "outlinewidth": 0,
              "ticks": ""
             }
            },
            "type": "scatterternary"
           }
          ],
          "surface": [
           {
            "colorbar": {
             "outlinewidth": 0,
             "ticks": ""
            },
            "colorscale": [
             [
              0,
              "#0d0887"
             ],
             [
              0.1111111111111111,
              "#46039f"
             ],
             [
              0.2222222222222222,
              "#7201a8"
             ],
             [
              0.3333333333333333,
              "#9c179e"
             ],
             [
              0.4444444444444444,
              "#bd3786"
             ],
             [
              0.5555555555555556,
              "#d8576b"
             ],
             [
              0.6666666666666666,
              "#ed7953"
             ],
             [
              0.7777777777777778,
              "#fb9f3a"
             ],
             [
              0.8888888888888888,
              "#fdca26"
             ],
             [
              1,
              "#f0f921"
             ]
            ],
            "type": "surface"
           }
          ],
          "table": [
           {
            "cells": {
             "fill": {
              "color": "#EBF0F8"
             },
             "line": {
              "color": "white"
             }
            },
            "header": {
             "fill": {
              "color": "#C8D4E3"
             },
             "line": {
              "color": "white"
             }
            },
            "type": "table"
           }
          ]
         },
         "layout": {
          "annotationdefaults": {
           "arrowcolor": "#2a3f5f",
           "arrowhead": 0,
           "arrowwidth": 1
          },
          "autotypenumbers": "strict",
          "coloraxis": {
           "colorbar": {
            "outlinewidth": 0,
            "ticks": ""
           }
          },
          "colorscale": {
           "diverging": [
            [
             0,
             "#8e0152"
            ],
            [
             0.1,
             "#c51b7d"
            ],
            [
             0.2,
             "#de77ae"
            ],
            [
             0.3,
             "#f1b6da"
            ],
            [
             0.4,
             "#fde0ef"
            ],
            [
             0.5,
             "#f7f7f7"
            ],
            [
             0.6,
             "#e6f5d0"
            ],
            [
             0.7,
             "#b8e186"
            ],
            [
             0.8,
             "#7fbc41"
            ],
            [
             0.9,
             "#4d9221"
            ],
            [
             1,
             "#276419"
            ]
           ],
           "sequential": [
            [
             0,
             "#0d0887"
            ],
            [
             0.1111111111111111,
             "#46039f"
            ],
            [
             0.2222222222222222,
             "#7201a8"
            ],
            [
             0.3333333333333333,
             "#9c179e"
            ],
            [
             0.4444444444444444,
             "#bd3786"
            ],
            [
             0.5555555555555556,
             "#d8576b"
            ],
            [
             0.6666666666666666,
             "#ed7953"
            ],
            [
             0.7777777777777778,
             "#fb9f3a"
            ],
            [
             0.8888888888888888,
             "#fdca26"
            ],
            [
             1,
             "#f0f921"
            ]
           ],
           "sequentialminus": [
            [
             0,
             "#0d0887"
            ],
            [
             0.1111111111111111,
             "#46039f"
            ],
            [
             0.2222222222222222,
             "#7201a8"
            ],
            [
             0.3333333333333333,
             "#9c179e"
            ],
            [
             0.4444444444444444,
             "#bd3786"
            ],
            [
             0.5555555555555556,
             "#d8576b"
            ],
            [
             0.6666666666666666,
             "#ed7953"
            ],
            [
             0.7777777777777778,
             "#fb9f3a"
            ],
            [
             0.8888888888888888,
             "#fdca26"
            ],
            [
             1,
             "#f0f921"
            ]
           ]
          },
          "colorway": [
           "#636efa",
           "#EF553B",
           "#00cc96",
           "#ab63fa",
           "#FFA15A",
           "#19d3f3",
           "#FF6692",
           "#B6E880",
           "#FF97FF",
           "#FECB52"
          ],
          "font": {
           "color": "#2a3f5f"
          },
          "geo": {
           "bgcolor": "white",
           "lakecolor": "white",
           "landcolor": "#E5ECF6",
           "showlakes": true,
           "showland": true,
           "subunitcolor": "white"
          },
          "hoverlabel": {
           "align": "left"
          },
          "hovermode": "closest",
          "mapbox": {
           "style": "light"
          },
          "paper_bgcolor": "white",
          "plot_bgcolor": "#E5ECF6",
          "polar": {
           "angularaxis": {
            "gridcolor": "white",
            "linecolor": "white",
            "ticks": ""
           },
           "bgcolor": "#E5ECF6",
           "radialaxis": {
            "gridcolor": "white",
            "linecolor": "white",
            "ticks": ""
           }
          },
          "scene": {
           "xaxis": {
            "backgroundcolor": "#E5ECF6",
            "gridcolor": "white",
            "gridwidth": 2,
            "linecolor": "white",
            "showbackground": true,
            "ticks": "",
            "zerolinecolor": "white"
           },
           "yaxis": {
            "backgroundcolor": "#E5ECF6",
            "gridcolor": "white",
            "gridwidth": 2,
            "linecolor": "white",
            "showbackground": true,
            "ticks": "",
            "zerolinecolor": "white"
           },
           "zaxis": {
            "backgroundcolor": "#E5ECF6",
            "gridcolor": "white",
            "gridwidth": 2,
            "linecolor": "white",
            "showbackground": true,
            "ticks": "",
            "zerolinecolor": "white"
           }
          },
          "shapedefaults": {
           "line": {
            "color": "#2a3f5f"
           }
          },
          "ternary": {
           "aaxis": {
            "gridcolor": "white",
            "linecolor": "white",
            "ticks": ""
           },
           "baxis": {
            "gridcolor": "white",
            "linecolor": "white",
            "ticks": ""
           },
           "bgcolor": "#E5ECF6",
           "caxis": {
            "gridcolor": "white",
            "linecolor": "white",
            "ticks": ""
           }
          },
          "title": {
           "x": 0.05
          },
          "xaxis": {
           "automargin": true,
           "gridcolor": "white",
           "linecolor": "white",
           "ticks": "",
           "title": {
            "standoff": 15
           },
           "zerolinecolor": "white",
           "zerolinewidth": 2
          },
          "yaxis": {
           "automargin": true,
           "gridcolor": "white",
           "linecolor": "white",
           "ticks": "",
           "title": {
            "standoff": 15
           },
           "zerolinecolor": "white",
           "zerolinewidth": 2
          }
         }
        },
        "width": 1000
       }
      },
      "image/png": "[encoded data removed]",
      "text/html": [
       "<div>                            <div id=\"5bf330e4-c66e-4bff-ae64-f797e75d10d4\" class=\"plotly-graph-div\" style=\"height:340px; width:1000px;\"></div>            <script type=\"text/javascript\">                require([\"plotly\"], function(Plotly) {                    window.PLOTLYENV=window.PLOTLYENV || {};                                    if (document.getElementById(\"5bf330e4-c66e-4bff-ae64-f797e75d10d4\")) {                    Plotly.newPlot(                        \"5bf330e4-c66e-4bff-ae64-f797e75d10d4\",                        [{\"cells\":{\"align\":[\"left\",\"center\",\"center\"],\"fill\":{\"color\":[\"paleturquoise\",\"lavender\"]},\"font\":{\"color\":\"black\",\"size\":11},\"height\":25,\"values\":[[\"Прямые\",\"Поиск, Google, результаты поиска\",\"Реклама, Яндекс\",\"Внутренние\",\"Сайты\",\"Реклама, Google Ads\",\"Поиск, Яндекс, результаты поиска\",\"Рассылки\",\"Реклама, Определено по меткам\",\"Поиск, Мобильный Яндекс\"],[\"31.57%\",\"4.49%\",\"13.90%\",\"22.29%\",\"3.08%\",\"8.08%\",\"5.50%\",\"3.13%\",\"1.77%\",\"1.08%\"],[\"29.65%\",\"19.81%\",\"18.91%\",\"14.73%\",\"12.79%\",\"11.54%\",\"10.06%\",\"6.88%\",\"5.37%\",\"3.42%\"],[\"23.21%\",\"17.85%\",\"12.73%\",\"2.88%\",\"11.30%\",\"7.46%\",\"7.02%\",\"3.18%\",\"3.61%\",\"2.98%\"],[\"28.32%\",\"10.06%\",\"17.56%\",\"5.83%\",\"3.73%\",\"8.65%\",\"9.12%\",\"5.55%\",\"2.61%\",\"2.23%\"],[\"57.50%\",\"10.96%\",\"39.22%\",\"57.18%\",\"7.61%\",\"23.54%\",\"18.43%\",\"20.37%\",\"8.55%\",\"2.59%\"],[\"22.37%\",\"17.19%\",\"12.30%\",\"6.77%\",\"11.10%\",\"6.85%\",\"6.22%\",\"2.81%\",\"3.76%\",\"2.62%\"],[\"25.89%\",\"8.15%\",\"16.31%\",\"17.16%\",\"3.14%\",\"6.88%\",\"6.78%\",\"4.47%\",\"3.06%\",\"1.19%\"]]},\"header\":{\"align\":[\"left\",\"center\",\"center\"],\"fill\":{\"color\":\"navy\"},\"font\":{\"color\":\"white\",\"size\":12},\"height\":30,\"values\":[\"Источник\",\"Средний вес в цепочке\",\"Доля уникальных цепочек\",\"Доля первых касаний\",\"Доля первых касаний (2+ цепочки)\",\"Доля промежуточных касаний\",\"Доля последних касаний\",\"Доля последних касаний (2+ цепочки)\"]},\"type\":\"table\",\"columnwidth\":[30,10,10,10,10,10,10,10]}],                        {\"template\":{\"data\":{\"histogram2dcontour\":[{\"type\":\"histogram2dcontour\",\"colorbar\":{\"outlinewidth\":0,\"ticks\":\"\"},\"colorscale\":[[0.0,\"#0d0887\"],[0.1111111111111111,\"#46039f\"],[0.2222222222222222,\"#7201a8\"],[0.3333333333333333,\"#9c179e\"],[0.4444444444444444,\"#bd3786\"],[0.5555555555555556,\"#d8576b\"],[0.6666666666666666,\"#ed7953\"],[0.7777777777777778,\"#fb9f3a\"],[0.8888888888888888,\"#fdca26\"],[1.0,\"#f0f921\"]]}],\"choropleth\":[{\"type\":\"choropleth\",\"colorbar\":{\"outlinewidth\":0,\"ticks\":\"\"}}],\"histogram2d\":[{\"type\":\"histogram2d\",\"colorbar\":{\"outlinewidth\":0,\"ticks\":\"\"},\"colorscale\":[[0.0,\"#0d0887\"],[0.1111111111111111,\"#46039f\"],[0.2222222222222222,\"#7201a8\"],[0.3333333333333333,\"#9c179e\"],[0.4444444444444444,\"#bd3786\"],[0.5555555555555556,\"#d8576b\"],[0.6666666666666666,\"#ed7953\"],[0.7777777777777778,\"#fb9f3a\"],[0.8888888888888888,\"#fdca26\"],[1.0,\"#f0f921\"]]}],\"heatmap\":[{\"type\":\"heatmap\",\"colorbar\":{\"outlinewidth\":0,\"ticks\":\"\"},\"colorscale\":[[0.0,\"#0d0887\"],[0.1111111111111111,\"#46039f\"],[0.2222222222222222,\"#7201a8\"],[0.3333333333333333,\"#9c179e\"],[0.4444444444444444,\"#bd3786\"],[0.5555555555555556,\"#d8576b\"],[0.6666666666666666,\"#ed7953\"],[0.7777777777777778,\"#fb9f3a\"],[0.8888888888888888,\"#fdca26\"],[1.0,\"#f0f921\"]]}],\"heatmapgl\":[{\"type\":\"heatmapgl\",\"colorbar\":{\"outlinewidth\":0,\"ticks\":\"\"},\"colorscale\":[[0.0,\"#0d0887\"],[0.1111111111111111,\"#46039f\"],[0.2222222222222222,\"#7201a8\"],[0.3333333333333333,\"#9c179e\"],[0.4444444444444444,\"#bd3786\"],[0.5555555555555556,\"#d8576b\"],[0.6666666666666666,\"#ed7953\"],[0.7777777777777778,\"#fb9f3a\"],[0.8888888888888888,\"#fdca26\"],[1.0,\"#f0f921\"]]}],\"contourcarpet\":[{\"type\":\"contourcarpet\",\"colorbar\":{\"outlinewidth\":0,\"ticks\":\"\"}}],\"contour\":[{\"type\":\"contour\",\"colorbar\":{\"outlinewidth\":0,\"ticks\":\"\"},\"colorscale\":[[0.0,\"#0d0887\"],[0.1111111111111111,\"#46039f\"],[0.2222222222222222,\"#7201a8\"],[0.3333333333333333,\"#9c179e\"],[0.4444444444444444,\"#bd3786\"],[0.5555555555555556,\"#d8576b\"],[0.6666666666666666,\"#ed7953\"],[0.7777777777777778,\"#fb9f3a\"],[0.8888888888888888,\"#fdca26\"],[1.0,\"#f0f921\"]]}],\"surface\":[{\"type\":\"surface\",\"colorbar\":{\"outlinewidth\":0,\"ticks\":\"\"},\"colorscale\":[[0.0,\"#0d0887\"],[0.1111111111111111,\"#46039f\"],[0.2222222222222222,\"#7201a8\"],[0.3333333333333333,\"#9c179e\"],[0.4444444444444444,\"#bd3786\"],[0.5555555555555556,\"#d8576b\"],[0.6666666666666666,\"#ed7953\"],[0.7777777777777778,\"#fb9f3a\"],[0.8888888888888888,\"#fdca26\"],[1.0,\"#f0f921\"]]}],\"mesh3d\":[{\"type\":\"mesh3d\",\"colorbar\":{\"outlinewidth\":0,\"ticks\":\"\"}}],\"scatter\":[{\"fillpattern\":{\"fillmode\":\"overlay\",\"size\":10,\"solidity\":0.2},\"type\":\"scatter\"}],\"parcoords\":[{\"type\":\"parcoords\",\"line\":{\"colorbar\":{\"outlinewidth\":0,\"ticks\":\"\"}}}],\"scatterpolargl\":[{\"type\":\"scatterpolargl\",\"marker\":{\"colorbar\":{\"outlinewidth\":0,\"ticks\":\"\"}}}],\"bar\":[{\"error_x\":{\"color\":\"#2a3f5f\"},\"error_y\":{\"color\":\"#2a3f5f\"},\"marker\":{\"line\":{\"color\":\"#E5ECF6\",\"width\":0.5},\"pattern\":{\"fillmode\":\"overlay\",\"size\":10,\"solidity\":0.2}},\"type\":\"bar\"}],\"scattergeo\":[{\"type\":\"scattergeo\",\"marker\":{\"colorbar\":{\"outlinewidth\":0,\"ticks\":\"\"}}}],\"scatterpolar\":[{\"type\":\"scatterpolar\",\"marker\":{\"colorbar\":{\"outlinewidth\":0,\"ticks\":\"\"}}}],\"histogram\":[{\"marker\":{\"pattern\":{\"fillmode\":\"overlay\",\"size\":10,\"solidity\":0.2}},\"type\":\"histogram\"}],\"scattergl\":[{\"type\":\"scattergl\",\"marker\":{\"colorbar\":{\"outlinewidth\":0,\"ticks\":\"\"}}}],\"scatter3d\":[{\"type\":\"scatter3d\",\"line\":{\"colorbar\":{\"outlinewidth\":0,\"ticks\":\"\"}},\"marker\":{\"colorbar\":{\"outlinewidth\":0,\"ticks\":\"\"}}}],\"scattermapbox\":[{\"type\":\"scattermapbox\",\"marker\":{\"colorbar\":{\"outlinewidth\":0,\"ticks\":\"\"}}}],\"scatterternary\":[{\"type\":\"scatterternary\",\"marker\":{\"colorbar\":{\"outlinewidth\":0,\"ticks\":\"\"}}}],\"scattercarpet\":[{\"type\":\"scattercarpet\",\"marker\":{\"colorbar\":{\"outlinewidth\":0,\"ticks\":\"\"}}}],\"carpet\":[{\"aaxis\":{\"endlinecolor\":\"#2a3f5f\",\"gridcolor\":\"white\",\"linecolor\":\"white\",\"minorgridcolor\":\"white\",\"startlinecolor\":\"#2a3f5f\"},\"baxis\":{\"endlinecolor\":\"#2a3f5f\",\"gridcolor\":\"white\",\"linecolor\":\"white\",\"minorgridcolor\":\"white\",\"startlinecolor\":\"#2a3f5f\"},\"type\":\"carpet\"}],\"table\":[{\"cells\":{\"fill\":{\"color\":\"#EBF0F8\"},\"line\":{\"color\":\"white\"}},\"header\":{\"fill\":{\"color\":\"#C8D4E3\"},\"line\":{\"color\":\"white\"}},\"type\":\"table\"}],\"barpolar\":[{\"marker\":{\"line\":{\"color\":\"#E5ECF6\",\"width\":0.5},\"pattern\":{\"fillmode\":\"overlay\",\"size\":10,\"solidity\":0.2}},\"type\":\"barpolar\"}],\"pie\":[{\"automargin\":true,\"type\":\"pie\"}]},\"layout\":{\"autotypenumbers\":\"strict\",\"colorway\":[\"#636efa\",\"#EF553B\",\"#00cc96\",\"#ab63fa\",\"#FFA15A\",\"#19d3f3\",\"#FF6692\",\"#B6E880\",\"#FF97FF\",\"#FECB52\"],\"font\":{\"color\":\"#2a3f5f\"},\"hovermode\":\"closest\",\"hoverlabel\":{\"align\":\"left\"},\"paper_bgcolor\":\"white\",\"plot_bgcolor\":\"#E5ECF6\",\"polar\":{\"bgcolor\":\"#E5ECF6\",\"angularaxis\":{\"gridcolor\":\"white\",\"linecolor\":\"white\",\"ticks\":\"\"},\"radialaxis\":{\"gridcolor\":\"white\",\"linecolor\":\"white\",\"ticks\":\"\"}},\"ternary\":{\"bgcolor\":\"#E5ECF6\",\"aaxis\":{\"gridcolor\":\"white\",\"linecolor\":\"white\",\"ticks\":\"\"},\"baxis\":{\"gridcolor\":\"white\",\"linecolor\":\"white\",\"ticks\":\"\"},\"caxis\":{\"gridcolor\":\"white\",\"linecolor\":\"white\",\"ticks\":\"\"}},\"coloraxis\":{\"colorbar\":{\"outlinewidth\":0,\"ticks\":\"\"}},\"colorscale\":{\"sequential\":[[0.0,\"#0d0887\"],[0.1111111111111111,\"#46039f\"],[0.2222222222222222,\"#7201a8\"],[0.3333333333333333,\"#9c179e\"],[0.4444444444444444,\"#bd3786\"],[0.5555555555555556,\"#d8576b\"],[0.6666666666666666,\"#ed7953\"],[0.7777777777777778,\"#fb9f3a\"],[0.8888888888888888,\"#fdca26\"],[1.0,\"#f0f921\"]],\"sequentialminus\":[[0.0,\"#0d0887\"],[0.1111111111111111,\"#46039f\"],[0.2222222222222222,\"#7201a8\"],[0.3333333333333333,\"#9c179e\"],[0.4444444444444444,\"#bd3786\"],[0.5555555555555556,\"#d8576b\"],[0.6666666666666666,\"#ed7953\"],[0.7777777777777778,\"#fb9f3a\"],[0.8888888888888888,\"#fdca26\"],[1.0,\"#f0f921\"]],\"diverging\":[[0,\"#8e0152\"],[0.1,\"#c51b7d\"],[0.2,\"#de77ae\"],[0.3,\"#f1b6da\"],[0.4,\"#fde0ef\"],[0.5,\"#f7f7f7\"],[0.6,\"#e6f5d0\"],[0.7,\"#b8e186\"],[0.8,\"#7fbc41\"],[0.9,\"#4d9221\"],[1,\"#276419\"]]},\"xaxis\":{\"gridcolor\":\"white\",\"linecolor\":\"white\",\"ticks\":\"\",\"title\":{\"standoff\":15},\"zerolinecolor\":\"white\",\"automargin\":true,\"zerolinewidth\":2},\"yaxis\":{\"gridcolor\":\"white\",\"linecolor\":\"white\",\"ticks\":\"\",\"title\":{\"standoff\":15},\"zerolinecolor\":\"white\",\"automargin\":true,\"zerolinewidth\":2},\"scene\":{\"xaxis\":{\"backgroundcolor\":\"#E5ECF6\",\"gridcolor\":\"white\",\"linecolor\":\"white\",\"showbackground\":true,\"ticks\":\"\",\"zerolinecolor\":\"white\",\"gridwidth\":2},\"yaxis\":{\"backgroundcolor\":\"#E5ECF6\",\"gridcolor\":\"white\",\"linecolor\":\"white\",\"showbackground\":true,\"ticks\":\"\",\"zerolinecolor\":\"white\",\"gridwidth\":2},\"zaxis\":{\"backgroundcolor\":\"#E5ECF6\",\"gridcolor\":\"white\",\"linecolor\":\"white\",\"showbackground\":true,\"ticks\":\"\",\"zerolinecolor\":\"white\",\"gridwidth\":2}},\"shapedefaults\":{\"line\":{\"color\":\"#2a3f5f\"}},\"annotationdefaults\":{\"arrowcolor\":\"#2a3f5f\",\"arrowhead\":0,\"arrowwidth\":1},\"geo\":{\"bgcolor\":\"white\",\"landcolor\":\"#E5ECF6\",\"subunitcolor\":\"white\",\"showland\":true,\"showlakes\":true,\"lakecolor\":\"white\"},\"title\":{\"x\":0.05},\"mapbox\":{\"style\":\"light\"}}},\"width\":1000,\"height\":340,\"font\":{\"family\":\"Calibri\",\"size\":12,\"color\":\"black\"},\"margin\":{\"l\":10,\"r\":10,\"t\":10,\"b\":10},\"paper_bgcolor\":\"rgba(155,155,155,1)\"},                        {\"responsive\": true}                    ).then(function(){\n",
       "                            \n",
       "var gd = document.getElementById('5bf330e4-c66e-4bff-ae64-f797e75d10d4');\n",
       "var x = new MutationObserver(function (mutations, observer) {{\n",
       "        var display = window.getComputedStyle(gd).display;\n",
       "        if (!display || display === 'none') {{\n",
       "            console.log([gd, 'removed!']);\n",
       "            Plotly.purge(gd);\n",
       "            observer.disconnect();\n",
       "        }}\n",
       "}});\n",
       "\n",
       "// Listen for the removal of the full notebook cells\n",
       "var notebookContainer = gd.closest('#notebook-container');\n",
       "if (notebookContainer) {{\n",
       "    x.observe(notebookContainer, {childList: true});\n",
       "}}\n",
       "\n",
       "// Listen for the clearing of the current output cell\n",
       "var outputEl = gd.closest('.output');\n",
       "if (outputEl) {{\n",
       "    x.observe(outputEl, {childList: true});\n",
       "}}\n",
       "\n",
       "                        })                };                });            </script>        </div>"
      ]
     },
     "metadata": {},
     "output_type": "display_data"
    }
   ],
   "source": [
    "all_chains_formatted_df = source_in_chains_df[['SourceName', 'in_chain_perc_total', 'unique_chains_perc', 'first_touch_total', 'first_touch_2plus', 'mid_touch_3plus', 'last_touch_total', 'last_touch_2plus']] \\\n",
    "    .sort_values('unique_chains_perc', ascending=False) \\\n",
    "    .rename(columns={'SourceName': 'Источник', 'in_chain_perc_total': 'Средний вес в цепочке', 'unique_chains_perc': 'Доля уникальных цепочек', \n",
    "                     'first_touch_total': 'Доля первых касаний', 'first_touch_2plus': 'Доля первых касаний (2+ цепочки)', \n",
    "                     'mid_touch_3plus': 'Доля промежуточных касаний', 'last_touch_total': 'Доля последних касаний', 'last_touch_2plus': 'Доля последних касаний (2+ цепочки)'}) \\\n",
    "    .head(10)\n",
    "\n",
    "all_chains_formatted_df['Средний вес в цепочке'] = all_chains_formatted_df['Средний вес в цепочке'].apply(lambda x: f\"{x:.2%}\")\n",
    "all_chains_formatted_df['Доля уникальных цепочек'] = all_chains_formatted_df['Доля уникальных цепочек'].apply(lambda x: f\"{x:.2%}\")\n",
    "all_chains_formatted_df['Доля первых касаний'] = all_chains_formatted_df['Доля первых касаний'].apply(lambda x: f\"{x:.2%}\")\n",
    "all_chains_formatted_df['Доля первых касаний (2+ цепочки)'] = all_chains_formatted_df['Доля первых касаний (2+ цепочки)'].apply(lambda x: f\"{x:.2%}\")\n",
    "all_chains_formatted_df['Доля промежуточных касаний'] = all_chains_formatted_df['Доля промежуточных касаний'].apply(lambda x: f\"{x:.2%}\")\n",
    "all_chains_formatted_df['Доля последних касаний'] = all_chains_formatted_df['Доля последних касаний'].apply(lambda x: f\"{x:.2%}\")\n",
    "all_chains_formatted_df['Доля последних касаний (2+ цепочки)'] = all_chains_formatted_df['Доля последних касаний (2+ цепочки)'].apply(lambda x: f\"{x:.2%}\")\n",
    "\n",
    "plotly_pretty_table(all_chains_formatted_df, width=1000, height=340, columnwidth = [30, 10, 10, 10, 10, 10, 10, 10])\n"
   ]
  },
  {
   "cell_type": "markdown",
   "id": "d4bfc274-05f4-489f-8d04-9f680e4dd868",
   "metadata": {},
   "source": [
    "Теперь цепочки с конверсиями"
   ]
  },
  {
   "cell_type": "code",
   "execution_count": 19,
   "id": "76b92d12-cedd-47c3-9d49-5b46b5819176",
   "metadata": {
    "execution": {
     "iopub.execute_input": "2024-04-23T14:13:12.752176Z",
     "iopub.status.busy": "2024-04-23T14:13:12.751487Z",
     "iopub.status.idle": "2024-04-23T14:13:12.804876Z",
     "shell.execute_reply": "2024-04-23T14:13:12.803905Z",
     "shell.execute_reply.started": "2024-04-23T14:13:12.752136Z"
    },
    "tags": []
   },
   "outputs": [
    {
     "data": {
      "application/vnd.plotly.v1+json": {
       "config": {
        "plotlyServerURL": "https://plot.ly"
       },
       "data": [
        {
         "cells": {
          "align": [
           "left",
           "center",
           "center"
          ],
          "fill": {
           "color": [
            "paleturquoise",
            "lavender"
           ]
          },
          "font": {
           "color": "black",
           "size": 11
          },
          "height": 25,
          "values": [
           [
            "Прямые",
            "Внутренние",
            "Реклама, Яндекс",
            "Реклама, Google Ads",
            "Поиск, Яндекс, результаты поиска",
            "Рассылки",
            "Поиск, Google, результаты поиска",
            "Реклама, Criteo",
            "Реклама, Admitad",
            "Реклама, Определено по меткам"
           ],
           [
            "33.15%",
            "27.11%",
            "14.45%",
            "9.16%",
            "4.40%",
            "3.82%",
            "2.03%",
            "1.59%",
            "1.02%",
            "1.02%"
           ],
           [
            "51.57%",
            "43.86%",
            "32.17%",
            "20.16%",
            "16.22%",
            "14.54%",
            "9.33%",
            "5.97%",
            "4.86%",
            "4.17%"
           ],
           [
            "34.94%",
            "5.86%",
            "18.86%",
            "11.18%",
            "9.85%",
            "6.49%",
            "6.06%",
            "0.72%",
            "1.02%",
            "0.66%"
           ],
           [
            "36.04%",
            "6.29%",
            "18.72%",
            "10.82%",
            "9.32%",
            "6.87%",
            "5.54%",
            "0.95%",
            "0.66%",
            "0.67%"
           ],
           [
            "62.70%",
            "64.25%",
            "37.34%",
            "23.74%",
            "16.72%",
            "19.19%",
            "8.23%",
            "10.41%",
            "5.35%",
            "6.32%"
           ],
           [
            "29.85%",
            "22.58%",
            "15.30%",
            "8.46%",
            "7.35%",
            "4.23%",
            "4.24%",
            "0.38%",
            "3.08%",
            "1.23%"
           ],
           [
            "29.08%",
            "29.15%",
            "13.86%",
            "7.10%",
            "5.90%",
            "3.78%",
            "3.05%",
            "0.49%",
            "3.48%",
            "1.45%"
           ]
          ]
         },
         "columnwidth": [
          30,
          10,
          10,
          10,
          10,
          10,
          10,
          10
         ],
         "header": {
          "align": [
           "left",
           "center",
           "center"
          ],
          "fill": {
           "color": "navy"
          },
          "font": {
           "color": "white",
           "size": 12
          },
          "height": 30,
          "values": [
           "Источник",
           "Средний вес в цепочке",
           "Доля уникальных цепочек",
           "Доля первых касаний",
           "Доля первых касаний (2+ цепочки)",
           "Доля промежуточных касаний",
           "Доля последних касаний",
           "Доля последних касаний (2+ цепочки)"
          ]
         },
         "type": "table"
        }
       ],
       "layout": {
        "font": {
         "color": "black",
         "family": "Calibri",
         "size": 12
        },
        "height": 340,
        "margin": {
         "b": 10,
         "l": 10,
         "r": 10,
         "t": 10
        },
        "paper_bgcolor": "rgba(155,155,155,1)",
        "template": {
         "data": {
          "bar": [
           {
            "error_x": {
             "color": "#2a3f5f"
            },
            "error_y": {
             "color": "#2a3f5f"
            },
            "marker": {
             "line": {
              "color": "#E5ECF6",
              "width": 0.5
             },
             "pattern": {
              "fillmode": "overlay",
              "size": 10,
              "solidity": 0.2
             }
            },
            "type": "bar"
           }
          ],
          "barpolar": [
           {
            "marker": {
             "line": {
              "color": "#E5ECF6",
              "width": 0.5
             },
             "pattern": {
              "fillmode": "overlay",
              "size": 10,
              "solidity": 0.2
             }
            },
            "type": "barpolar"
           }
          ],
          "carpet": [
           {
            "aaxis": {
             "endlinecolor": "#2a3f5f",
             "gridcolor": "white",
             "linecolor": "white",
             "minorgridcolor": "white",
             "startlinecolor": "#2a3f5f"
            },
            "baxis": {
             "endlinecolor": "#2a3f5f",
             "gridcolor": "white",
             "linecolor": "white",
             "minorgridcolor": "white",
             "startlinecolor": "#2a3f5f"
            },
            "type": "carpet"
           }
          ],
          "choropleth": [
           {
            "colorbar": {
             "outlinewidth": 0,
             "ticks": ""
            },
            "type": "choropleth"
           }
          ],
          "contour": [
           {
            "colorbar": {
             "outlinewidth": 0,
             "ticks": ""
            },
            "colorscale": [
             [
              0,
              "#0d0887"
             ],
             [
              0.1111111111111111,
              "#46039f"
             ],
             [
              0.2222222222222222,
              "#7201a8"
             ],
             [
              0.3333333333333333,
              "#9c179e"
             ],
             [
              0.4444444444444444,
              "#bd3786"
             ],
             [
              0.5555555555555556,
              "#d8576b"
             ],
             [
              0.6666666666666666,
              "#ed7953"
             ],
             [
              0.7777777777777778,
              "#fb9f3a"
             ],
             [
              0.8888888888888888,
              "#fdca26"
             ],
             [
              1,
              "#f0f921"
             ]
            ],
            "type": "contour"
           }
          ],
          "contourcarpet": [
           {
            "colorbar": {
             "outlinewidth": 0,
             "ticks": ""
            },
            "type": "contourcarpet"
           }
          ],
          "heatmap": [
           {
            "colorbar": {
             "outlinewidth": 0,
             "ticks": ""
            },
            "colorscale": [
             [
              0,
              "#0d0887"
             ],
             [
              0.1111111111111111,
              "#46039f"
             ],
             [
              0.2222222222222222,
              "#7201a8"
             ],
             [
              0.3333333333333333,
              "#9c179e"
             ],
             [
              0.4444444444444444,
              "#bd3786"
             ],
             [
              0.5555555555555556,
              "#d8576b"
             ],
             [
              0.6666666666666666,
              "#ed7953"
             ],
             [
              0.7777777777777778,
              "#fb9f3a"
             ],
             [
              0.8888888888888888,
              "#fdca26"
             ],
             [
              1,
              "#f0f921"
             ]
            ],
            "type": "heatmap"
           }
          ],
          "heatmapgl": [
           {
            "colorbar": {
             "outlinewidth": 0,
             "ticks": ""
            },
            "colorscale": [
             [
              0,
              "#0d0887"
             ],
             [
              0.1111111111111111,
              "#46039f"
             ],
             [
              0.2222222222222222,
              "#7201a8"
             ],
             [
              0.3333333333333333,
              "#9c179e"
             ],
             [
              0.4444444444444444,
              "#bd3786"
             ],
             [
              0.5555555555555556,
              "#d8576b"
             ],
             [
              0.6666666666666666,
              "#ed7953"
             ],
             [
              0.7777777777777778,
              "#fb9f3a"
             ],
             [
              0.8888888888888888,
              "#fdca26"
             ],
             [
              1,
              "#f0f921"
             ]
            ],
            "type": "heatmapgl"
           }
          ],
          "histogram": [
           {
            "marker": {
             "pattern": {
              "fillmode": "overlay",
              "size": 10,
              "solidity": 0.2
             }
            },
            "type": "histogram"
           }
          ],
          "histogram2d": [
           {
            "colorbar": {
             "outlinewidth": 0,
             "ticks": ""
            },
            "colorscale": [
             [
              0,
              "#0d0887"
             ],
             [
              0.1111111111111111,
              "#46039f"
             ],
             [
              0.2222222222222222,
              "#7201a8"
             ],
             [
              0.3333333333333333,
              "#9c179e"
             ],
             [
              0.4444444444444444,
              "#bd3786"
             ],
             [
              0.5555555555555556,
              "#d8576b"
             ],
             [
              0.6666666666666666,
              "#ed7953"
             ],
             [
              0.7777777777777778,
              "#fb9f3a"
             ],
             [
              0.8888888888888888,
              "#fdca26"
             ],
             [
              1,
              "#f0f921"
             ]
            ],
            "type": "histogram2d"
           }
          ],
          "histogram2dcontour": [
           {
            "colorbar": {
             "outlinewidth": 0,
             "ticks": ""
            },
            "colorscale": [
             [
              0,
              "#0d0887"
             ],
             [
              0.1111111111111111,
              "#46039f"
             ],
             [
              0.2222222222222222,
              "#7201a8"
             ],
             [
              0.3333333333333333,
              "#9c179e"
             ],
             [
              0.4444444444444444,
              "#bd3786"
             ],
             [
              0.5555555555555556,
              "#d8576b"
             ],
             [
              0.6666666666666666,
              "#ed7953"
             ],
             [
              0.7777777777777778,
              "#fb9f3a"
             ],
             [
              0.8888888888888888,
              "#fdca26"
             ],
             [
              1,
              "#f0f921"
             ]
            ],
            "type": "histogram2dcontour"
           }
          ],
          "mesh3d": [
           {
            "colorbar": {
             "outlinewidth": 0,
             "ticks": ""
            },
            "type": "mesh3d"
           }
          ],
          "parcoords": [
           {
            "line": {
             "colorbar": {
              "outlinewidth": 0,
              "ticks": ""
             }
            },
            "type": "parcoords"
           }
          ],
          "pie": [
           {
            "automargin": true,
            "type": "pie"
           }
          ],
          "scatter": [
           {
            "fillpattern": {
             "fillmode": "overlay",
             "size": 10,
             "solidity": 0.2
            },
            "type": "scatter"
           }
          ],
          "scatter3d": [
           {
            "line": {
             "colorbar": {
              "outlinewidth": 0,
              "ticks": ""
             }
            },
            "marker": {
             "colorbar": {
              "outlinewidth": 0,
              "ticks": ""
             }
            },
            "type": "scatter3d"
           }
          ],
          "scattercarpet": [
           {
            "marker": {
             "colorbar": {
              "outlinewidth": 0,
              "ticks": ""
             }
            },
            "type": "scattercarpet"
           }
          ],
          "scattergeo": [
           {
            "marker": {
             "colorbar": {
              "outlinewidth": 0,
              "ticks": ""
             }
            },
            "type": "scattergeo"
           }
          ],
          "scattergl": [
           {
            "marker": {
             "colorbar": {
              "outlinewidth": 0,
              "ticks": ""
             }
            },
            "type": "scattergl"
           }
          ],
          "scattermapbox": [
           {
            "marker": {
             "colorbar": {
              "outlinewidth": 0,
              "ticks": ""
             }
            },
            "type": "scattermapbox"
           }
          ],
          "scatterpolar": [
           {
            "marker": {
             "colorbar": {
              "outlinewidth": 0,
              "ticks": ""
             }
            },
            "type": "scatterpolar"
           }
          ],
          "scatterpolargl": [
           {
            "marker": {
             "colorbar": {
              "outlinewidth": 0,
              "ticks": ""
             }
            },
            "type": "scatterpolargl"
           }
          ],
          "scatterternary": [
           {
            "marker": {
             "colorbar": {
              "outlinewidth": 0,
              "ticks": ""
             }
            },
            "type": "scatterternary"
           }
          ],
          "surface": [
           {
            "colorbar": {
             "outlinewidth": 0,
             "ticks": ""
            },
            "colorscale": [
             [
              0,
              "#0d0887"
             ],
             [
              0.1111111111111111,
              "#46039f"
             ],
             [
              0.2222222222222222,
              "#7201a8"
             ],
             [
              0.3333333333333333,
              "#9c179e"
             ],
             [
              0.4444444444444444,
              "#bd3786"
             ],
             [
              0.5555555555555556,
              "#d8576b"
             ],
             [
              0.6666666666666666,
              "#ed7953"
             ],
             [
              0.7777777777777778,
              "#fb9f3a"
             ],
             [
              0.8888888888888888,
              "#fdca26"
             ],
             [
              1,
              "#f0f921"
             ]
            ],
            "type": "surface"
           }
          ],
          "table": [
           {
            "cells": {
             "fill": {
              "color": "#EBF0F8"
             },
             "line": {
              "color": "white"
             }
            },
            "header": {
             "fill": {
              "color": "#C8D4E3"
             },
             "line": {
              "color": "white"
             }
            },
            "type": "table"
           }
          ]
         },
         "layout": {
          "annotationdefaults": {
           "arrowcolor": "#2a3f5f",
           "arrowhead": 0,
           "arrowwidth": 1
          },
          "autotypenumbers": "strict",
          "coloraxis": {
           "colorbar": {
            "outlinewidth": 0,
            "ticks": ""
           }
          },
          "colorscale": {
           "diverging": [
            [
             0,
             "#8e0152"
            ],
            [
             0.1,
             "#c51b7d"
            ],
            [
             0.2,
             "#de77ae"
            ],
            [
             0.3,
             "#f1b6da"
            ],
            [
             0.4,
             "#fde0ef"
            ],
            [
             0.5,
             "#f7f7f7"
            ],
            [
             0.6,
             "#e6f5d0"
            ],
            [
             0.7,
             "#b8e186"
            ],
            [
             0.8,
             "#7fbc41"
            ],
            [
             0.9,
             "#4d9221"
            ],
            [
             1,
             "#276419"
            ]
           ],
           "sequential": [
            [
             0,
             "#0d0887"
            ],
            [
             0.1111111111111111,
             "#46039f"
            ],
            [
             0.2222222222222222,
             "#7201a8"
            ],
            [
             0.3333333333333333,
             "#9c179e"
            ],
            [
             0.4444444444444444,
             "#bd3786"
            ],
            [
             0.5555555555555556,
             "#d8576b"
            ],
            [
             0.6666666666666666,
             "#ed7953"
            ],
            [
             0.7777777777777778,
             "#fb9f3a"
            ],
            [
             0.8888888888888888,
             "#fdca26"
            ],
            [
             1,
             "#f0f921"
            ]
           ],
           "sequentialminus": [
            [
             0,
             "#0d0887"
            ],
            [
             0.1111111111111111,
             "#46039f"
            ],
            [
             0.2222222222222222,
             "#7201a8"
            ],
            [
             0.3333333333333333,
             "#9c179e"
            ],
            [
             0.4444444444444444,
             "#bd3786"
            ],
            [
             0.5555555555555556,
             "#d8576b"
            ],
            [
             0.6666666666666666,
             "#ed7953"
            ],
            [
             0.7777777777777778,
             "#fb9f3a"
            ],
            [
             0.8888888888888888,
             "#fdca26"
            ],
            [
             1,
             "#f0f921"
            ]
           ]
          },
          "colorway": [
           "#636efa",
           "#EF553B",
           "#00cc96",
           "#ab63fa",
           "#FFA15A",
           "#19d3f3",
           "#FF6692",
           "#B6E880",
           "#FF97FF",
           "#FECB52"
          ],
          "font": {
           "color": "#2a3f5f"
          },
          "geo": {
           "bgcolor": "white",
           "lakecolor": "white",
           "landcolor": "#E5ECF6",
           "showlakes": true,
           "showland": true,
           "subunitcolor": "white"
          },
          "hoverlabel": {
           "align": "left"
          },
          "hovermode": "closest",
          "mapbox": {
           "style": "light"
          },
          "paper_bgcolor": "white",
          "plot_bgcolor": "#E5ECF6",
          "polar": {
           "angularaxis": {
            "gridcolor": "white",
            "linecolor": "white",
            "ticks": ""
           },
           "bgcolor": "#E5ECF6",
           "radialaxis": {
            "gridcolor": "white",
            "linecolor": "white",
            "ticks": ""
           }
          },
          "scene": {
           "xaxis": {
            "backgroundcolor": "#E5ECF6",
            "gridcolor": "white",
            "gridwidth": 2,
            "linecolor": "white",
            "showbackground": true,
            "ticks": "",
            "zerolinecolor": "white"
           },
           "yaxis": {
            "backgroundcolor": "#E5ECF6",
            "gridcolor": "white",
            "gridwidth": 2,
            "linecolor": "white",
            "showbackground": true,
            "ticks": "",
            "zerolinecolor": "white"
           },
           "zaxis": {
            "backgroundcolor": "#E5ECF6",
            "gridcolor": "white",
            "gridwidth": 2,
            "linecolor": "white",
            "showbackground": true,
            "ticks": "",
            "zerolinecolor": "white"
           }
          },
          "shapedefaults": {
           "line": {
            "color": "#2a3f5f"
           }
          },
          "ternary": {
           "aaxis": {
            "gridcolor": "white",
            "linecolor": "white",
            "ticks": ""
           },
           "baxis": {
            "gridcolor": "white",
            "linecolor": "white",
            "ticks": ""
           },
           "bgcolor": "#E5ECF6",
           "caxis": {
            "gridcolor": "white",
            "linecolor": "white",
            "ticks": ""
           }
          },
          "title": {
           "x": 0.05
          },
          "xaxis": {
           "automargin": true,
           "gridcolor": "white",
           "linecolor": "white",
           "ticks": "",
           "title": {
            "standoff": 15
           },
           "zerolinecolor": "white",
           "zerolinewidth": 2
          },
          "yaxis": {
           "automargin": true,
           "gridcolor": "white",
           "linecolor": "white",
           "ticks": "",
           "title": {
            "standoff": 15
           },
           "zerolinecolor": "white",
           "zerolinewidth": 2
          }
         }
        },
        "width": 1000
       }
      },
      "image/png": "[encoded data removed]",
      "text/html": [
       "<div>                            <div id=\"324cbf63-ffbd-4330-a989-0655bfa7f2a9\" class=\"plotly-graph-div\" style=\"height:340px; width:1000px;\"></div>            <script type=\"text/javascript\">                require([\"plotly\"], function(Plotly) {                    window.PLOTLYENV=window.PLOTLYENV || {};                                    if (document.getElementById(\"324cbf63-ffbd-4330-a989-0655bfa7f2a9\")) {                    Plotly.newPlot(                        \"324cbf63-ffbd-4330-a989-0655bfa7f2a9\",                        [{\"cells\":{\"align\":[\"left\",\"center\",\"center\"],\"fill\":{\"color\":[\"paleturquoise\",\"lavender\"]},\"font\":{\"color\":\"black\",\"size\":11},\"height\":25,\"values\":[[\"Прямые\",\"Внутренние\",\"Реклама, Яндекс\",\"Реклама, Google Ads\",\"Поиск, Яндекс, результаты поиска\",\"Рассылки\",\"Поиск, Google, результаты поиска\",\"Реклама, Criteo\",\"Реклама, Admitad\",\"Реклама, Определено по меткам\"],[\"33.15%\",\"27.11%\",\"14.45%\",\"9.16%\",\"4.40%\",\"3.82%\",\"2.03%\",\"1.59%\",\"1.02%\",\"1.02%\"],[\"51.57%\",\"43.86%\",\"32.17%\",\"20.16%\",\"16.22%\",\"14.54%\",\"9.33%\",\"5.97%\",\"4.86%\",\"4.17%\"],[\"34.94%\",\"5.86%\",\"18.86%\",\"11.18%\",\"9.85%\",\"6.49%\",\"6.06%\",\"0.72%\",\"1.02%\",\"0.66%\"],[\"36.04%\",\"6.29%\",\"18.72%\",\"10.82%\",\"9.32%\",\"6.87%\",\"5.54%\",\"0.95%\",\"0.66%\",\"0.67%\"],[\"62.70%\",\"64.25%\",\"37.34%\",\"23.74%\",\"16.72%\",\"19.19%\",\"8.23%\",\"10.41%\",\"5.35%\",\"6.32%\"],[\"29.85%\",\"22.58%\",\"15.30%\",\"8.46%\",\"7.35%\",\"4.23%\",\"4.24%\",\"0.38%\",\"3.08%\",\"1.23%\"],[\"29.08%\",\"29.15%\",\"13.86%\",\"7.10%\",\"5.90%\",\"3.78%\",\"3.05%\",\"0.49%\",\"3.48%\",\"1.45%\"]]},\"header\":{\"align\":[\"left\",\"center\",\"center\"],\"fill\":{\"color\":\"navy\"},\"font\":{\"color\":\"white\",\"size\":12},\"height\":30,\"values\":[\"Источник\",\"Средний вес в цепочке\",\"Доля уникальных цепочек\",\"Доля первых касаний\",\"Доля первых касаний (2+ цепочки)\",\"Доля промежуточных касаний\",\"Доля последних касаний\",\"Доля последних касаний (2+ цепочки)\"]},\"type\":\"table\",\"columnwidth\":[30,10,10,10,10,10,10,10]}],                        {\"template\":{\"data\":{\"histogram2dcontour\":[{\"type\":\"histogram2dcontour\",\"colorbar\":{\"outlinewidth\":0,\"ticks\":\"\"},\"colorscale\":[[0.0,\"#0d0887\"],[0.1111111111111111,\"#46039f\"],[0.2222222222222222,\"#7201a8\"],[0.3333333333333333,\"#9c179e\"],[0.4444444444444444,\"#bd3786\"],[0.5555555555555556,\"#d8576b\"],[0.6666666666666666,\"#ed7953\"],[0.7777777777777778,\"#fb9f3a\"],[0.8888888888888888,\"#fdca26\"],[1.0,\"#f0f921\"]]}],\"choropleth\":[{\"type\":\"choropleth\",\"colorbar\":{\"outlinewidth\":0,\"ticks\":\"\"}}],\"histogram2d\":[{\"type\":\"histogram2d\",\"colorbar\":{\"outlinewidth\":0,\"ticks\":\"\"},\"colorscale\":[[0.0,\"#0d0887\"],[0.1111111111111111,\"#46039f\"],[0.2222222222222222,\"#7201a8\"],[0.3333333333333333,\"#9c179e\"],[0.4444444444444444,\"#bd3786\"],[0.5555555555555556,\"#d8576b\"],[0.6666666666666666,\"#ed7953\"],[0.7777777777777778,\"#fb9f3a\"],[0.8888888888888888,\"#fdca26\"],[1.0,\"#f0f921\"]]}],\"heatmap\":[{\"type\":\"heatmap\",\"colorbar\":{\"outlinewidth\":0,\"ticks\":\"\"},\"colorscale\":[[0.0,\"#0d0887\"],[0.1111111111111111,\"#46039f\"],[0.2222222222222222,\"#7201a8\"],[0.3333333333333333,\"#9c179e\"],[0.4444444444444444,\"#bd3786\"],[0.5555555555555556,\"#d8576b\"],[0.6666666666666666,\"#ed7953\"],[0.7777777777777778,\"#fb9f3a\"],[0.8888888888888888,\"#fdca26\"],[1.0,\"#f0f921\"]]}],\"heatmapgl\":[{\"type\":\"heatmapgl\",\"colorbar\":{\"outlinewidth\":0,\"ticks\":\"\"},\"colorscale\":[[0.0,\"#0d0887\"],[0.1111111111111111,\"#46039f\"],[0.2222222222222222,\"#7201a8\"],[0.3333333333333333,\"#9c179e\"],[0.4444444444444444,\"#bd3786\"],[0.5555555555555556,\"#d8576b\"],[0.6666666666666666,\"#ed7953\"],[0.7777777777777778,\"#fb9f3a\"],[0.8888888888888888,\"#fdca26\"],[1.0,\"#f0f921\"]]}],\"contourcarpet\":[{\"type\":\"contourcarpet\",\"colorbar\":{\"outlinewidth\":0,\"ticks\":\"\"}}],\"contour\":[{\"type\":\"contour\",\"colorbar\":{\"outlinewidth\":0,\"ticks\":\"\"},\"colorscale\":[[0.0,\"#0d0887\"],[0.1111111111111111,\"#46039f\"],[0.2222222222222222,\"#7201a8\"],[0.3333333333333333,\"#9c179e\"],[0.4444444444444444,\"#bd3786\"],[0.5555555555555556,\"#d8576b\"],[0.6666666666666666,\"#ed7953\"],[0.7777777777777778,\"#fb9f3a\"],[0.8888888888888888,\"#fdca26\"],[1.0,\"#f0f921\"]]}],\"surface\":[{\"type\":\"surface\",\"colorbar\":{\"outlinewidth\":0,\"ticks\":\"\"},\"colorscale\":[[0.0,\"#0d0887\"],[0.1111111111111111,\"#46039f\"],[0.2222222222222222,\"#7201a8\"],[0.3333333333333333,\"#9c179e\"],[0.4444444444444444,\"#bd3786\"],[0.5555555555555556,\"#d8576b\"],[0.6666666666666666,\"#ed7953\"],[0.7777777777777778,\"#fb9f3a\"],[0.8888888888888888,\"#fdca26\"],[1.0,\"#f0f921\"]]}],\"mesh3d\":[{\"type\":\"mesh3d\",\"colorbar\":{\"outlinewidth\":0,\"ticks\":\"\"}}],\"scatter\":[{\"fillpattern\":{\"fillmode\":\"overlay\",\"size\":10,\"solidity\":0.2},\"type\":\"scatter\"}],\"parcoords\":[{\"type\":\"parcoords\",\"line\":{\"colorbar\":{\"outlinewidth\":0,\"ticks\":\"\"}}}],\"scatterpolargl\":[{\"type\":\"scatterpolargl\",\"marker\":{\"colorbar\":{\"outlinewidth\":0,\"ticks\":\"\"}}}],\"bar\":[{\"error_x\":{\"color\":\"#2a3f5f\"},\"error_y\":{\"color\":\"#2a3f5f\"},\"marker\":{\"line\":{\"color\":\"#E5ECF6\",\"width\":0.5},\"pattern\":{\"fillmode\":\"overlay\",\"size\":10,\"solidity\":0.2}},\"type\":\"bar\"}],\"scattergeo\":[{\"type\":\"scattergeo\",\"marker\":{\"colorbar\":{\"outlinewidth\":0,\"ticks\":\"\"}}}],\"scatterpolar\":[{\"type\":\"scatterpolar\",\"marker\":{\"colorbar\":{\"outlinewidth\":0,\"ticks\":\"\"}}}],\"histogram\":[{\"marker\":{\"pattern\":{\"fillmode\":\"overlay\",\"size\":10,\"solidity\":0.2}},\"type\":\"histogram\"}],\"scattergl\":[{\"type\":\"scattergl\",\"marker\":{\"colorbar\":{\"outlinewidth\":0,\"ticks\":\"\"}}}],\"scatter3d\":[{\"type\":\"scatter3d\",\"line\":{\"colorbar\":{\"outlinewidth\":0,\"ticks\":\"\"}},\"marker\":{\"colorbar\":{\"outlinewidth\":0,\"ticks\":\"\"}}}],\"scattermapbox\":[{\"type\":\"scattermapbox\",\"marker\":{\"colorbar\":{\"outlinewidth\":0,\"ticks\":\"\"}}}],\"scatterternary\":[{\"type\":\"scatterternary\",\"marker\":{\"colorbar\":{\"outlinewidth\":0,\"ticks\":\"\"}}}],\"scattercarpet\":[{\"type\":\"scattercarpet\",\"marker\":{\"colorbar\":{\"outlinewidth\":0,\"ticks\":\"\"}}}],\"carpet\":[{\"aaxis\":{\"endlinecolor\":\"#2a3f5f\",\"gridcolor\":\"white\",\"linecolor\":\"white\",\"minorgridcolor\":\"white\",\"startlinecolor\":\"#2a3f5f\"},\"baxis\":{\"endlinecolor\":\"#2a3f5f\",\"gridcolor\":\"white\",\"linecolor\":\"white\",\"minorgridcolor\":\"white\",\"startlinecolor\":\"#2a3f5f\"},\"type\":\"carpet\"}],\"table\":[{\"cells\":{\"fill\":{\"color\":\"#EBF0F8\"},\"line\":{\"color\":\"white\"}},\"header\":{\"fill\":{\"color\":\"#C8D4E3\"},\"line\":{\"color\":\"white\"}},\"type\":\"table\"}],\"barpolar\":[{\"marker\":{\"line\":{\"color\":\"#E5ECF6\",\"width\":0.5},\"pattern\":{\"fillmode\":\"overlay\",\"size\":10,\"solidity\":0.2}},\"type\":\"barpolar\"}],\"pie\":[{\"automargin\":true,\"type\":\"pie\"}]},\"layout\":{\"autotypenumbers\":\"strict\",\"colorway\":[\"#636efa\",\"#EF553B\",\"#00cc96\",\"#ab63fa\",\"#FFA15A\",\"#19d3f3\",\"#FF6692\",\"#B6E880\",\"#FF97FF\",\"#FECB52\"],\"font\":{\"color\":\"#2a3f5f\"},\"hovermode\":\"closest\",\"hoverlabel\":{\"align\":\"left\"},\"paper_bgcolor\":\"white\",\"plot_bgcolor\":\"#E5ECF6\",\"polar\":{\"bgcolor\":\"#E5ECF6\",\"angularaxis\":{\"gridcolor\":\"white\",\"linecolor\":\"white\",\"ticks\":\"\"},\"radialaxis\":{\"gridcolor\":\"white\",\"linecolor\":\"white\",\"ticks\":\"\"}},\"ternary\":{\"bgcolor\":\"#E5ECF6\",\"aaxis\":{\"gridcolor\":\"white\",\"linecolor\":\"white\",\"ticks\":\"\"},\"baxis\":{\"gridcolor\":\"white\",\"linecolor\":\"white\",\"ticks\":\"\"},\"caxis\":{\"gridcolor\":\"white\",\"linecolor\":\"white\",\"ticks\":\"\"}},\"coloraxis\":{\"colorbar\":{\"outlinewidth\":0,\"ticks\":\"\"}},\"colorscale\":{\"sequential\":[[0.0,\"#0d0887\"],[0.1111111111111111,\"#46039f\"],[0.2222222222222222,\"#7201a8\"],[0.3333333333333333,\"#9c179e\"],[0.4444444444444444,\"#bd3786\"],[0.5555555555555556,\"#d8576b\"],[0.6666666666666666,\"#ed7953\"],[0.7777777777777778,\"#fb9f3a\"],[0.8888888888888888,\"#fdca26\"],[1.0,\"#f0f921\"]],\"sequentialminus\":[[0.0,\"#0d0887\"],[0.1111111111111111,\"#46039f\"],[0.2222222222222222,\"#7201a8\"],[0.3333333333333333,\"#9c179e\"],[0.4444444444444444,\"#bd3786\"],[0.5555555555555556,\"#d8576b\"],[0.6666666666666666,\"#ed7953\"],[0.7777777777777778,\"#fb9f3a\"],[0.8888888888888888,\"#fdca26\"],[1.0,\"#f0f921\"]],\"diverging\":[[0,\"#8e0152\"],[0.1,\"#c51b7d\"],[0.2,\"#de77ae\"],[0.3,\"#f1b6da\"],[0.4,\"#fde0ef\"],[0.5,\"#f7f7f7\"],[0.6,\"#e6f5d0\"],[0.7,\"#b8e186\"],[0.8,\"#7fbc41\"],[0.9,\"#4d9221\"],[1,\"#276419\"]]},\"xaxis\":{\"gridcolor\":\"white\",\"linecolor\":\"white\",\"ticks\":\"\",\"title\":{\"standoff\":15},\"zerolinecolor\":\"white\",\"automargin\":true,\"zerolinewidth\":2},\"yaxis\":{\"gridcolor\":\"white\",\"linecolor\":\"white\",\"ticks\":\"\",\"title\":{\"standoff\":15},\"zerolinecolor\":\"white\",\"automargin\":true,\"zerolinewidth\":2},\"scene\":{\"xaxis\":{\"backgroundcolor\":\"#E5ECF6\",\"gridcolor\":\"white\",\"linecolor\":\"white\",\"showbackground\":true,\"ticks\":\"\",\"zerolinecolor\":\"white\",\"gridwidth\":2},\"yaxis\":{\"backgroundcolor\":\"#E5ECF6\",\"gridcolor\":\"white\",\"linecolor\":\"white\",\"showbackground\":true,\"ticks\":\"\",\"zerolinecolor\":\"white\",\"gridwidth\":2},\"zaxis\":{\"backgroundcolor\":\"#E5ECF6\",\"gridcolor\":\"white\",\"linecolor\":\"white\",\"showbackground\":true,\"ticks\":\"\",\"zerolinecolor\":\"white\",\"gridwidth\":2}},\"shapedefaults\":{\"line\":{\"color\":\"#2a3f5f\"}},\"annotationdefaults\":{\"arrowcolor\":\"#2a3f5f\",\"arrowhead\":0,\"arrowwidth\":1},\"geo\":{\"bgcolor\":\"white\",\"landcolor\":\"#E5ECF6\",\"subunitcolor\":\"white\",\"showland\":true,\"showlakes\":true,\"lakecolor\":\"white\"},\"title\":{\"x\":0.05},\"mapbox\":{\"style\":\"light\"}}},\"width\":1000,\"height\":340,\"font\":{\"family\":\"Calibri\",\"size\":12,\"color\":\"black\"},\"margin\":{\"l\":10,\"r\":10,\"t\":10,\"b\":10},\"paper_bgcolor\":\"rgba(155,155,155,1)\"},                        {\"responsive\": true}                    ).then(function(){\n",
       "                            \n",
       "var gd = document.getElementById('324cbf63-ffbd-4330-a989-0655bfa7f2a9');\n",
       "var x = new MutationObserver(function (mutations, observer) {{\n",
       "        var display = window.getComputedStyle(gd).display;\n",
       "        if (!display || display === 'none') {{\n",
       "            console.log([gd, 'removed!']);\n",
       "            Plotly.purge(gd);\n",
       "            observer.disconnect();\n",
       "        }}\n",
       "}});\n",
       "\n",
       "// Listen for the removal of the full notebook cells\n",
       "var notebookContainer = gd.closest('#notebook-container');\n",
       "if (notebookContainer) {{\n",
       "    x.observe(notebookContainer, {childList: true});\n",
       "}}\n",
       "\n",
       "// Listen for the clearing of the current output cell\n",
       "var outputEl = gd.closest('.output');\n",
       "if (outputEl) {{\n",
       "    x.observe(outputEl, {childList: true});\n",
       "}}\n",
       "\n",
       "                        })                };                });            </script>        </div>"
      ]
     },
     "metadata": {},
     "output_type": "display_data"
    }
   ],
   "source": [
    "conv_chains_formatted_df = source_in_chains_df[['SourceName', 'in_conv_chains_perc_total', 'unique_conv_chains_perc', 'first_touch_conv_total', 'first_touch_conv_2plus', 'mid_touch_conv_3plus', 'last_touch_conv_total', 'last_touch_conv_2plus']] \\\n",
    "    .sort_values('unique_conv_chains_perc', ascending=False) \\\n",
    "    .rename(columns={'SourceName': 'Источник', \n",
    "                     'in_conv_chains_perc_total': 'Средний вес в цепочке', \n",
    "                     'unique_conv_chains_perc': 'Доля уникальных цепочек', \n",
    "                     'first_touch_conv_total': 'Доля первых касаний', \n",
    "                     'first_touch_conv_2plus': 'Доля первых касаний (2+ цепочки)', \n",
    "                     'mid_touch_conv_3plus': 'Доля промежуточных касаний', \n",
    "                     'last_touch_conv_total': 'Доля последних касаний', \n",
    "                     'last_touch_conv_2plus': 'Доля последних касаний (2+ цепочки)'}) \\\n",
    "    .head(10)\n",
    "\n",
    "conv_chains_formatted_df['Средний вес в цепочке'] = conv_chains_formatted_df['Средний вес в цепочке'].apply(lambda x: f\"{x:.2%}\")\n",
    "conv_chains_formatted_df['Доля уникальных цепочек'] = conv_chains_formatted_df['Доля уникальных цепочек'].apply(lambda x: f\"{x:.2%}\")\n",
    "conv_chains_formatted_df['Доля первых касаний'] = conv_chains_formatted_df['Доля первых касаний'].apply(lambda x: f\"{x:.2%}\")\n",
    "conv_chains_formatted_df['Доля первых касаний (2+ цепочки)'] = conv_chains_formatted_df['Доля первых касаний (2+ цепочки)'].apply(lambda x: f\"{x:.2%}\")\n",
    "conv_chains_formatted_df['Доля промежуточных касаний'] = conv_chains_formatted_df['Доля промежуточных касаний'].apply(lambda x: f\"{x:.2%}\")\n",
    "conv_chains_formatted_df['Доля последних касаний'] = conv_chains_formatted_df['Доля последних касаний'].apply(lambda x: f\"{x:.2%}\")\n",
    "conv_chains_formatted_df['Доля последних касаний (2+ цепочки)'] = conv_chains_formatted_df['Доля последних касаний (2+ цепочки)'].apply(lambda x: f\"{x:.2%}\")\n",
    "\n",
    "plotly_pretty_table(conv_chains_formatted_df, width=1000, height=340, columnwidth = [30, 10, 10, 10, 10, 10, 10, 10])\n",
    "\n"
   ]
  }
 ],
 "metadata": {
  "kernelspec": {
   "display_name": "DataSphere Kernel",
   "language": "python",
   "name": "python3"
  },
  "language_info": {
   "codemirror_mode": {
    "name": "ipython",
    "version": 3
   },
   "file_extension": ".py",
   "mimetype": "text/x-python",
   "name": "python",
   "nbconvert_exporter": "python",
   "pygments_lexer": "ipython3",
   "version": "3.10.12"
  }
 },
 "nbformat": 4,
 "nbformat_minor": 5
}
