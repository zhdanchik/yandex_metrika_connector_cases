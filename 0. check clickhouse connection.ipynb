{
 "cells": [
  {
   "cell_type": "markdown",
   "id": "870cbc38-7edf-4377-b7aa-fcd118e5bc4b",
   "metadata": {},
   "source": [
    "## Подключение и настройка\n",
    "https://cloud.yandex.ru/docs/managed-clickhouse/\n",
    "(см. слайды)\n",
    "\n",
    "## Данные для доступа\n",
    "* Из интерфейса облака в разделе хосты копируем имя хост в переменную `CH_HOST_NAME`\n",
    "* Используем заведенного юзера в переменной `CH_USER`\n",
    "* Используем заведенного юзера в переменной `CH_USER`\n",
    "\n",
    "* Сохраним пароль заведенного пользователя в текстовый файл `_chpass.txt`\n",
    "* В переменную `CH_PASS` считаем содержимое файла `_chpass.txt`\n",
    "* В переменную `cacert` поместим путь к сертификату для подключения к серверу. Файл `YandexInternalRootCA.crt` должен лежать в репозитории"
   ]
  },
  {
   "cell_type": "code",
   "execution_count": 1,
   "id": "9120b54f-91ce-417b-a721-f60312a01280",
   "metadata": {
    "execution": {
     "iopub.execute_input": "2024-04-09T08:25:20.349014Z",
     "iopub.status.busy": "2024-04-09T08:25:20.348198Z",
     "iopub.status.idle": "2024-04-09T08:25:20.382181Z",
     "shell.execute_reply": "2024-04-09T08:25:20.381566Z",
     "shell.execute_reply.started": "2024-04-09T08:25:20.348975Z"
    },
    "tags": []
   },
   "outputs": [
    {
     "name": "stdout",
     "output_type": "stream",
     "text": [
      "/home/jupyter/work/resources/yandex_metrika_connector_cases\n"
     ]
    }
   ],
   "source": [
    "import os\n",
    "print(os.getcwd())"
   ]
  },
  {
   "cell_type": "code",
   "execution_count": 2,
   "id": "49f01bec-2200-4ec8-94c3-b9acafa55595",
   "metadata": {
    "execution": {
     "iopub.execute_input": "2024-04-09T08:25:25.411114Z",
     "iopub.status.busy": "2024-04-09T08:25:25.410389Z",
     "iopub.status.idle": "2024-04-09T08:25:25.421700Z",
     "shell.execute_reply": "2024-04-09T08:25:25.421053Z",
     "shell.execute_reply.started": "2024-04-09T08:25:25.411076Z"
    },
    "tags": []
   },
   "outputs": [],
   "source": [
    "#----------Вводить свои данные в нижние 3 переменные--------------\n",
    "CH_HOST_NAME = 'rc1b-bbmw2gw58fm2dbeb.mdb.yandexcloud.net'\n",
    "CH_USER      = 'z_sergey'\n",
    "CH_DB_NAME   = 'metrica_data'\n",
    "\n",
    "#-------------------------------------------\n",
    "CH_PASS      = open('../_chpass.txt').read().strip()\n",
    "CH_HOST      = f'https://{CH_HOST_NAME}:8443'\n",
    "CH_CASERT    = 'YandexInternalRootCA.crt'"
   ]
  },
  {
   "cell_type": "code",
   "execution_count": 3,
   "id": "8067c081-0f40-47e2-8d69-bb2b71e89e42",
   "metadata": {
    "execution": {
     "iopub.execute_input": "2024-04-09T08:25:27.514527Z",
     "iopub.status.busy": "2024-04-09T08:25:27.513813Z",
     "iopub.status.idle": "2024-04-09T08:25:27.778233Z",
     "shell.execute_reply": "2024-04-09T08:25:27.777503Z",
     "shell.execute_reply.started": "2024-04-09T08:25:27.514483Z"
    },
    "tags": []
   },
   "outputs": [
    {
     "data": {
      "text/html": [
       "        <script type=\"text/javascript\">\n",
       "        window.PlotlyConfig = {MathJaxConfig: 'local'};\n",
       "        if (window.MathJax && window.MathJax.Hub && window.MathJax.Hub.Config) {window.MathJax.Hub.Config({SVG: {font: \"STIX-Web\"}});}\n",
       "        if (typeof require !== 'undefined') {\n",
       "        require.undef(\"plotly\");\n",
       "        requirejs.config({\n",
       "            paths: {\n",
       "                'plotly': ['https://cdn.plot.ly/plotly-2.18.2.min']\n",
       "            }\n",
       "        });\n",
       "        require(['plotly'], function(Plotly) {\n",
       "            window._Plotly = Plotly;\n",
       "        });\n",
       "        }\n",
       "        </script>\n",
       "        "
      ]
     },
     "metadata": {},
     "output_type": "display_data"
    }
   ],
   "source": [
    "import some_funcs\n",
    "from some_funcs import simple_ch_client"
   ]
  },
  {
   "cell_type": "markdown",
   "id": "ec6780ee-831f-4e51-b840-2daef7e824d9",
   "metadata": {},
   "source": [
    "##  Функции для интеграции с ClickHouse\n",
    "\n",
    "В файле `some_funcs` есть класс `simple_ch_client` для работы с ClickHouse\n",
    "\n",
    "Сначала надо создать экземпляр класса, инициализировав его начальными параметрами - хост, пользователь, пароль и путь к сертификату\n",
    "`simple_ch_client(CH_HOST, CH_USER, CH_PASS, cacert)`\n",
    "\n",
    "В классе есть 4 метода:\n",
    "* `.get_version()` - получает текущую версию ClickHouse. Хороший способ проверить, что указанные при инициализации параметры работают\n",
    "* `.get_clickhouse_data(query)` - выполняет запрос `query` и возвращает результат в текстовом формате\n",
    "* `.get_clickhouse_df(query)` - выполняет запрос `query` и возвращает результат в виде DataFrame\n",
    "* `.upload(table, content)` - загружает таблицу `content`, которая подается в текстовом формате в таблицу ClickHouse'а с именем `table`\n",
    "\n",
    "\n",
    "## Проверяем ClickHouse\n",
    "Используя заготовленные выше переменные, проверим доступ до сервера (как в документации https://cloud.yandex.ru/docs/managed-clickhouse/operations/connect#connection-string)\n",
    "Этот метод реализован в методе `.get_version()` класса для работы с ClickHouse\n",
    "При успешном подключении не произойдет никакой ошибки при выполнении этого метода, и он сам вернет версию сервера ClickHouse (например `23.3.22.3`)"
   ]
  },
  {
   "cell_type": "code",
   "execution_count": 4,
   "id": "af417621-dc56-4621-8b96-12cb36fe764b",
   "metadata": {
    "execution": {
     "iopub.execute_input": "2024-04-09T08:25:30.152781Z",
     "iopub.status.busy": "2024-04-09T08:25:30.152119Z",
     "iopub.status.idle": "2024-04-09T08:25:30.200241Z",
     "shell.execute_reply": "2024-04-09T08:25:30.199633Z",
     "shell.execute_reply.started": "2024-04-09T08:25:30.152742Z"
    },
    "tags": []
   },
   "outputs": [],
   "source": [
    "my_client = simple_ch_client(CH_HOST, CH_USER, CH_PASS, CH_CASERT)"
   ]
  },
  {
   "cell_type": "code",
   "execution_count": 5,
   "id": "3a6773db-6574-4d19-b7d4-51fae1b2d8cb",
   "metadata": {
    "execution": {
     "iopub.execute_input": "2024-04-09T08:25:33.361394Z",
     "iopub.status.busy": "2024-04-09T08:25:33.360920Z",
     "iopub.status.idle": "2024-04-09T08:25:33.712882Z",
     "shell.execute_reply": "2024-04-09T08:25:33.712160Z",
     "shell.execute_reply.started": "2024-04-09T08:25:33.361359Z"
    },
    "tags": []
   },
   "outputs": [
    {
     "name": "stdout",
     "output_type": "stream",
     "text": [
      "23.3.22.3\n",
      "\n"
     ]
    }
   ],
   "source": [
    "my_client.get_version()"
   ]
  }
 ],
 "metadata": {
  "kernelspec": {
   "display_name": "DataSphere Kernel",
   "language": "python",
   "name": "python3"
  },
  "language_info": {
   "codemirror_mode": {
    "name": "ipython",
    "version": 3
   },
   "file_extension": ".py",
   "mimetype": "text/x-python",
   "name": "python",
   "nbconvert_exporter": "python",
   "pygments_lexer": "ipython3",
   "version": "3.10.12"
  }
 },
 "nbformat": 4,
 "nbformat_minor": 5
}
