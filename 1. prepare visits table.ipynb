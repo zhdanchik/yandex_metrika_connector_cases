{
 "cells": [
  {
   "cell_type": "markdown",
   "id": "bd5a798b-7f83-4fb4-a9d6-eaf7316c91a6",
   "metadata": {},
   "source": [
    "## Подготовка данных с визитами\n",
    "\n",
    "Для того, чтобы построить аналитику цепочек потребуется таблица с визитами из коннектора. (если нет коннектора, то можно как-то предподготовить данные из LogsAPI).\n",
    "\n",
    "Требуемые поля таблицы:\n",
    "```\n",
    "CounterID, UserIDHash, VisitID, VisitVersion, Sign, \n",
    "StartDate, UTCStartTime, \n",
    "`TrafficSource.Model`, `TrafficSource.StartTime`,  \n",
    "`TrafficSource.ID`, `TrafficSource.SearchEngineID`, \n",
    "`TrafficSource.AdvEngineID`, `TrafficSource.SocialSourceNetworkID`, \n",
    "`TrafficSource.ClickBannerID`, `TrafficSource.ClickTargetType`, \n",
    "`TrafficSource.RecommendationSystemID`, `TrafficSource.MessengerID`, \n",
    "`EPurchase.ID`, `EPurchase.Revenue`,\n",
    "`Goals.ID`, `Goals.Price`\n",
    "```"
   ]
  },
  {
   "cell_type": "markdown",
   "id": "4e3d3a2c-3ba3-493f-8768-8f1cdcb23ca9",
   "metadata": {
    "execution": {
     "iopub.status.busy": "2024-04-22T23:06:27.162373602Z",
     "iopub.status.idle": "2024-04-22T23:06:27.214954596Z",
     "shell.execute_reply": "2024-04-22T23:06:27.162265549Z"
    },
    "tags": []
   },
   "source": [
    "Если у вас уже подготовлена такая таблица, то шаг можно пропустить и перейти к Шагу 2 в notebook с названием `2. analysis of channels chains.ipynb`"
   ]
  },
  {
   "cell_type": "markdown",
   "id": "a99585ea-8447-43e5-b2cc-0a7433ac180f",
   "metadata": {
    "execution": {
     "iopub.status.busy": "2024-04-23T08:11:32.652844035Z",
     "iopub.status.idle": "2024-04-23T08:11:32.659022498Z",
     "shell.execute_reply": "2024-04-23T08:11:32.652763269Z"
    },
    "tags": []
   },
   "source": [
    "Если таблицы нет, то можно ее создать. Например, ниже можно использовать файл с выгруженными из CH данными фейкового счетчика для примера. Данные можно скачать здесь - https://disk.yandex.ru/d/zSmOl5X_gGDGyA"
   ]
  },
  {
   "cell_type": "markdown",
   "id": "0d37fe28-6459-46be-8f05-c08029d42cb0",
   "metadata": {
    "execution": {
     "iopub.status.busy": "2024-04-23T08:12:04.321821621Z",
     "iopub.status.idle": "2024-04-23T08:12:04.323931734Z",
     "shell.execute_reply": "2024-04-23T08:12:04.321758111Z"
    }
   },
   "source": [
    "Сначала инициализируем доступ к clickhouse"
   ]
  },
  {
   "cell_type": "code",
   "execution_count": 1,
   "id": "3e5b01c6-a228-4507-9667-17bf9e5db6c9",
   "metadata": {
    "execution": {
     "iopub.execute_input": "2024-04-22T23:09:23.512535Z",
     "iopub.status.busy": "2024-04-22T23:09:23.511813Z",
     "iopub.status.idle": "2024-04-22T23:09:23.540079Z",
     "shell.execute_reply": "2024-04-22T23:09:23.538884Z",
     "shell.execute_reply.started": "2024-04-22T23:09:23.512485Z"
    },
    "tags": []
   },
   "outputs": [],
   "source": [
    "#----------Вводить свои данные в нижние 3 переменные--------------\n",
    "CH_HOST_NAME = 'rc1a-4dk99mincol3hoff.mdb.yandexcloud.net'\n",
    "CH_USER      = 'admin'\n",
    "CH_DB_NAME   = 'metrica_data'\n",
    "\n",
    "#-------------------------------------------\n",
    "CH_PASS      = open('../_chpass.txt').read().strip()\n",
    "CH_HOST      = f'https://{CH_HOST_NAME}:8443'\n",
    "CH_CASERT    = 'YandexInternalRootCA.crt'"
   ]
  },
  {
   "cell_type": "code",
   "execution_count": 3,
   "id": "6f874623-b69c-4a93-b450-13c5aeee7380",
   "metadata": {
    "execution": {
     "iopub.execute_input": "2024-04-22T23:09:46.562427Z",
     "iopub.status.busy": "2024-04-22T23:09:46.561192Z",
     "iopub.status.idle": "2024-04-22T23:09:47.057810Z",
     "shell.execute_reply": "2024-04-22T23:09:47.056902Z",
     "shell.execute_reply.started": "2024-04-22T23:09:46.562371Z"
    }
   },
   "outputs": [
    {
     "data": {
      "text/html": [
       "        <script type=\"text/javascript\">\n",
       "        window.PlotlyConfig = {MathJaxConfig: 'local'};\n",
       "        if (window.MathJax && window.MathJax.Hub && window.MathJax.Hub.Config) {window.MathJax.Hub.Config({SVG: {font: \"STIX-Web\"}});}\n",
       "        if (typeof require !== 'undefined') {\n",
       "        require.undef(\"plotly\");\n",
       "        requirejs.config({\n",
       "            paths: {\n",
       "                'plotly': ['https://cdn.plot.ly/plotly-2.18.2.min']\n",
       "            }\n",
       "        });\n",
       "        require(['plotly'], function(Plotly) {\n",
       "            window._Plotly = Plotly;\n",
       "        });\n",
       "        }\n",
       "        </script>\n",
       "        "
      ]
     },
     "metadata": {},
     "output_type": "display_data"
    }
   ],
   "source": [
    "import some_funcs\n",
    "from some_funcs import simple_ch_client"
   ]
  },
  {
   "cell_type": "code",
   "execution_count": 4,
   "id": "90693005-ee0f-458b-b9aa-8029c5e09db9",
   "metadata": {
    "execution": {
     "iopub.execute_input": "2024-04-22T23:09:54.230995Z",
     "iopub.status.busy": "2024-04-22T23:09:54.229965Z",
     "iopub.status.idle": "2024-04-22T23:09:54.246719Z",
     "shell.execute_reply": "2024-04-22T23:09:54.245762Z",
     "shell.execute_reply.started": "2024-04-22T23:09:54.230948Z"
    }
   },
   "outputs": [],
   "source": [
    "my_client = simple_ch_client(CH_HOST, CH_USER, CH_PASS, CH_CASERT)"
   ]
  },
  {
   "cell_type": "code",
   "execution_count": 5,
   "id": "c9f13ad1-0e90-4cb5-a526-caf26f75e0e3",
   "metadata": {
    "execution": {
     "iopub.execute_input": "2024-04-22T23:09:59.921301Z",
     "iopub.status.busy": "2024-04-22T23:09:59.920751Z",
     "iopub.status.idle": "2024-04-22T23:10:00.019803Z",
     "shell.execute_reply": "2024-04-22T23:10:00.018945Z",
     "shell.execute_reply.started": "2024-04-22T23:09:59.921261Z"
    }
   },
   "outputs": [
    {
     "name": "stdout",
     "output_type": "stream",
     "text": [
      "23.8.12.13\n",
      "\n"
     ]
    }
   ],
   "source": [
    "my_client.get_version()"
   ]
  },
  {
   "cell_type": "markdown",
   "id": "d67d65c2-4716-4b22-8fc1-f54c8b439be1",
   "metadata": {},
   "source": [
    "Создаем новую табличку с полями \"а-ля\" в коннекторе"
   ]
  },
  {
   "cell_type": "code",
   "execution_count": 12,
   "id": "6465b407-6ec5-4aca-8c70-5c235b9a7668",
   "metadata": {
    "execution": {
     "iopub.execute_input": "2024-04-22T23:34:14.443236Z",
     "iopub.status.busy": "2024-04-22T23:34:14.442438Z",
     "iopub.status.idle": "2024-04-22T23:34:14.552602Z",
     "shell.execute_reply": "2024-04-22T23:34:14.551900Z",
     "shell.execute_reply.started": "2024-04-22T23:34:14.443197Z"
    },
    "tags": []
   },
   "outputs": [
    {
     "data": {
      "text/plain": [
       "''"
      ]
     },
     "execution_count": 12,
     "metadata": {},
     "output_type": "execute_result"
    }
   ],
   "source": [
    "drop_visits_raw_table = f'drop table if exists {CH_DB_NAME}.visits_from_ch'\n",
    "my_client.get_clickhouse_data(drop_visits_raw_table)\n",
    "\n",
    "create_visits_raw_table = f'''\n",
    "CREATE TABLE {CH_DB_NAME}.visits_from_ch (\n",
    "    `CounterID` UInt32, `UserIDHash` UInt64, `VisitID` UInt64, VisitVersion UInt32, Sign Int8, \n",
    "    `StartDate` Date, `UTCStartTime` DateTime, Duration UInt32,\n",
    "    `TrafficSource.Model` Array(UInt8), `TrafficSource.StartTime` Array(DateTime),  \n",
    "    `TrafficSource.ID` Array(Int8), `TrafficSource.SearchEngineID` Array(UInt16), \n",
    "    `TrafficSource.AdvEngineID` Array(UInt8), `TrafficSource.SocialSourceNetworkID` Array(UInt8), \n",
    "    `TrafficSource.ClickBannerID` Array(UInt64), `TrafficSource.ClickTargetType` Array(UInt16), \n",
    "    `TrafficSource.RecommendationSystemID` Array(UInt8), `TrafficSource.MessengerID` Array(UInt8), \n",
    "    `EPurchase.ID` Array(String), `EPurchase.Revenue` Array(Int64),\n",
    "    `Goals.ID` Array(UInt32), `Goals.Price` Array(Int64)\n",
    ") \n",
    "ENGINE = MergeTree \n",
    "ORDER BY intHash32(UserIDHash) \n",
    "SAMPLE BY intHash32(UserIDHash)\n",
    "'''\n",
    "my_client.get_clickhouse_data(create_visits_raw_table)"
   ]
  },
  {
   "cell_type": "markdown",
   "id": "4ddfbd52-a6ec-49d5-9716-0dc3946d8d10",
   "metadata": {},
   "source": [
    "Читаем файл с фейковыми данными"
   ]
  },
  {
   "cell_type": "code",
   "execution_count": 18,
   "id": "1cbb6e00-2804-444c-9a20-57adc1c5d751",
   "metadata": {
    "execution": {
     "iopub.execute_input": "2024-04-22T23:37:51.225495Z",
     "iopub.status.busy": "2024-04-22T23:37:51.224618Z",
     "iopub.status.idle": "2024-04-22T23:37:55.266205Z",
     "shell.execute_reply": "2024-04-22T23:37:55.265414Z",
     "shell.execute_reply.started": "2024-04-22T23:37:51.225447Z"
    },
    "tags": []
   },
   "outputs": [],
   "source": [
    "import gzip, json\n",
    "with gzip.open('../visits_fake_data_for_meetup_v2.tar.gz', 'rb') as fin:\n",
    "    json_bytes = fin.read()  \n",
    "    \n",
    "json_str = json_bytes.decode('utf-8')"
   ]
  },
  {
   "cell_type": "markdown",
   "id": "33782dbe-6f44-4528-b37f-29ff488441e9",
   "metadata": {},
   "source": [
    "Загружаем в созданную таблицу"
   ]
  },
  {
   "cell_type": "code",
   "execution_count": 19,
   "id": "2b54137e-96bb-47de-942c-7f5ef75a0d53",
   "metadata": {
    "execution": {
     "iopub.execute_input": "2024-04-22T23:37:58.706520Z",
     "iopub.status.busy": "2024-04-22T23:37:58.705560Z",
     "iopub.status.idle": "2024-04-22T23:38:07.534415Z",
     "shell.execute_reply": "2024-04-22T23:38:07.533673Z",
     "shell.execute_reply.started": "2024-04-22T23:37:58.706477Z"
    },
    "tags": []
   },
   "outputs": [],
   "source": [
    "import requests\n",
    "content = json_str.encode('utf-8')\n",
    "query_dict = {\n",
    "        'query': f'INSERT INTO {CH_DB_NAME}.visits_from_ch FORMAT JSON',\n",
    "        'user': CH_USER, \n",
    "        'password':CH_PASS\n",
    "    }\n",
    "r = requests.post(CH_HOST, data=content, params=query_dict, verify=CH_CASERT)\n",
    "result = r.text\n"
   ]
  },
  {
   "cell_type": "markdown",
   "id": "7e821ccb-91a5-4d8b-8732-9029b428cb14",
   "metadata": {},
   "source": [
    "Если все хорошо, то в `result` должна быть пустота"
   ]
  },
  {
   "cell_type": "code",
   "execution_count": 20,
   "id": "f18b6d4e-8bec-4b25-ba34-40f921ef34a7",
   "metadata": {
    "execution": {
     "iopub.execute_input": "2024-04-22T23:38:08.885408Z",
     "iopub.status.busy": "2024-04-22T23:38:08.884606Z",
     "iopub.status.idle": "2024-04-22T23:38:08.900197Z",
     "shell.execute_reply": "2024-04-22T23:38:08.899543Z",
     "shell.execute_reply.started": "2024-04-22T23:38:08.885366Z"
    },
    "tags": []
   },
   "outputs": [
    {
     "data": {
      "text/plain": [
       "''"
      ]
     },
     "execution_count": 20,
     "metadata": {},
     "output_type": "execute_result"
    }
   ],
   "source": [
    "result"
   ]
  }
 ],
 "metadata": {
  "kernelspec": {
   "display_name": "DataSphere Kernel",
   "language": "python",
   "name": "python3"
  },
  "language_info": {
   "codemirror_mode": {
    "name": "ipython",
    "version": 3
   },
   "file_extension": ".py",
   "mimetype": "text/x-python",
   "name": "python",
   "nbconvert_exporter": "python",
   "pygments_lexer": "ipython3",
   "version": "3.10.12"
  }
 },
 "nbformat": 4,
 "nbformat_minor": 5
}
